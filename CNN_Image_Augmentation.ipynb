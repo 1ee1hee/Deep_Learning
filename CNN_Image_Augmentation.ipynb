{
  "nbformat": 4,
  "nbformat_minor": 0,
  "metadata": {
    "colab": {
      "provenance": [],
      "gpuType": "T4",
      "mount_file_id": "1bdGjLZ5s3RXtTqDF6tkoi474ac3RQ5zl",
      "authorship_tag": "ABX9TyONxqbeeErP89zpMe9gy0KV",
      "include_colab_link": true
    },
    "kernelspec": {
      "name": "python3",
      "display_name": "Python 3"
    },
    "language_info": {
      "name": "python"
    },
    "accelerator": "GPU"
  },
  "cells": [
    {
      "cell_type": "markdown",
      "metadata": {
        "id": "view-in-github",
        "colab_type": "text"
      },
      "source": [
        "<a href=\"https://colab.research.google.com/github/1ee1hee/Deep_Learning/blob/main/CNN_Image_Augmentation.ipynb\" target=\"_parent\"><img src=\"https://colab.research.google.com/assets/colab-badge.svg\" alt=\"Open In Colab\"/></a>"
      ]
    },
    {
      "cell_type": "markdown",
      "source": [
        "# CNN small datasets 학습\n",
        "- 학습할 Data의 개수가 많지 않을 때 CNN을 통한 모형 학습이 어려울 수 있음\n",
        "    - 딥러닝은 많은 수의 데이터를 통해 feature engineering 과정 없이 원하는 문제를 해결할 수 있다 => **Point: 많은 데이터수**\n",
        "- Data가 많지 않아 CNN 학습에 어려움이 있을 때 사용 가능한 방법\n",
        "    - Data augmentation 활용\n",
        "        - 원본 이미지의 색, 각도 등 약간 씩 변형한 이미지들을 추가로 만들어 데이터 수를 늘림\n",
        "    - Pre-trained network 활용\n",
        "        - 매우 큰 데이터셋으로 미리 Training한 모델의 파라미터를 가져와 문제에 맞게 모델을 재보정하여 사용\n",
        "        - 성능이 좋은 학습된 모델을 사용하므로 적은 데이터에도 좋은 성능을 낼 수 있음"
      ],
      "metadata": {
        "id": "SwaZ3UfiS-v3"
      }
    },
    {
      "cell_type": "markdown",
      "source": [
        "## Data for cats vs. dogs\n",
        "- 2013년 Kaggle의 computer vision competition data 활용 https://www.kaggle.com/c/dogs-vs-cats/data\n",
        "- 개와 고양이를 구분하기 위한 문제로 각 12,500개의 이미지를 포함\n",
        "- Medium-resolution color JPEGs\n",
        "- 25000장의 사진 중 4000장의 cats/dogs 사진(2000 cats, 2000 dogs) 만을 사용하여 학습하여 좋은 모형을 만들어 낼 수 있을까?\n",
        "    - 학습: 2000, 검증: 1000, 테스트: 1000\n",
        "    \n",
        "![cats_vs_dogs_samples](https://s3.amazonaws.com/book.keras.io/img/ch5/cats_vs_dogs_samples.jpg)"
      ],
      "metadata": {
        "id": "q83yyriVUBZ4"
      }
    },
    {
      "cell_type": "markdown",
      "source": [
        "### 하이퍼파라미터 정의"
      ],
      "metadata": {
        "id": "PnZaslnRtz5_"
      }
    },
    {
      "cell_type": "code",
      "source": [
        "LEARNING_RATE = 0.001\n",
        "N_EPOCH = 200\n",
        "N_BATCH = 100"
      ],
      "metadata": {
        "id": "AI9od3QVVUE6"
      },
      "execution_count": 1,
      "outputs": []
    },
    {
      "cell_type": "markdown",
      "source": [
        "### 모델 구현 및 학습\n",
        "\n",
        "- Input: $224 \\times 224$ 픽셀의 RGB layer\n",
        "- Output: cat or dog (binary classification)  \n",
        "- ImageDataGenerator를 이용해 파일시스템에 저장된 이미지 데이터셋을 학습시킨다."
      ],
      "metadata": {
        "id": "jR80BQnkt6eZ"
      }
    },
    {
      "cell_type": "code",
      "source": [
        "import tensorflow as tf\n",
        "from tensorflow import keras\n",
        "from tensorflow.keras import layers, models, optimizers\n",
        "from tensorflow.keras.preprocessing.image import ImageDataGenerator\n",
        "\n",
        "import numpy as np\n",
        "import random\n",
        "\n",
        "random.seed(0)\n",
        "np.random.seed(0)\n",
        "tf.random.set_seed(0)"
      ],
      "metadata": {
        "id": "2Jf4_0yut8G9"
      },
      "execution_count": 2,
      "outputs": []
    },
    {
      "cell_type": "code",
      "source": [
        "# 모델 생성\n",
        "def get_model():\n",
        "    model = keras.Sequential()\n",
        "\n",
        "    model.add(layers.Conv2D(filters = 64, kernel_size = 3, padding = 'same', activation = 'relu', input_shape=(224, 224, 3)))\n",
        "    model.add(layers.MaxPooling2D(padding = 'same'))\n",
        "\n",
        "    model.add(layers.Conv2D(filters = 64, kernel_size = 3, padding = 'same', activation = 'relu'))\n",
        "    model.add(layers.MaxPooling2D(padding = 'same'))\n",
        "\n",
        "    model.add(layers.Conv2D(filters = 128, kernel_size = 3, padding = 'same', activation = 'relu'))\n",
        "    model.add(layers.MaxPooling2D(padding = 'same'))\n",
        "\n",
        "    model.add(layers.Conv2D(filters = 128, kernel_size = 3, padding = 'same', activation = 'relu'))\n",
        "    model.add(layers.MaxPooling2D(padding = 'same'))\n",
        "\n",
        "    model.add(layers.Conv2D(filters = 256, kernel_size = 3, padding = 'same', activation = 'relu'))\n",
        "    model.add(layers.MaxPooling2D(padding = 'same'))\n",
        "\n",
        "    model.add(layers.Conv2D(filters = 256, kernel_size = 3, padding = 'same', activation = 'relu'))\n",
        "    model.add(layers.MaxPooling2D(padding = 'same'))\n",
        "\n",
        "    model.add(layers.Flatten())\n",
        "    model.add(layers.Dropout(rate = 0.5))\n",
        "    model.add(layers.Dense(units = 1, activation = 'sigmoid', name = 'binary_classification_output'))\n",
        "\n",
        "    model.compile(optimizer = optimizers.Adam(learning_rate = LEARNING_RATE),\n",
        "                  loss = 'binary_crossentropy', metrics = ['accuracy'])\n",
        "\n",
        "    return model"
      ],
      "metadata": {
        "id": "GLsRqcZQt_fj"
      },
      "execution_count": 3,
      "outputs": []
    },
    {
      "cell_type": "markdown",
      "source": [
        "### ImageDataGenerator 생성"
      ],
      "metadata": {
        "id": "pBbjKirzuAtl"
      }
    },
    {
      "cell_type": "code",
      "source": [
        "# 데이터셋 디렉토리 경로\n",
        "\n",
        "trainset_dir = '/content/drive/Othercomputers/mymy/GDrive/data/cats_and_dogs_small/train'\n",
        "valset_dir = '/content/drive/Othercomputers/mymy/GDrive/data/cats_and_dogs_small/validation'\n",
        "testset_dir = '/content/drive/Othercomputers/mymy/GDrive/data/cats_and_dogs_small/test'"
      ],
      "metadata": {
        "id": "h8IdpYMkuDat"
      },
      "execution_count": 4,
      "outputs": []
    },
    {
      "cell_type": "code",
      "source": [
        "# image augmentation 미적용\n",
        "train_datagen = ImageDataGenerator(rescale = 1./255)\n",
        "test_datagen = ImageDataGenerator(rescale = 1./255)\n",
        "val_datagen = ImageDataGenerator(rescale = 1./255)\n",
        "\n",
        "# Iterator 생성 -> raw data 파일과 연결\n",
        "train_iter = train_datagen.flow_from_directory(trainset_dir,\n",
        "                                               target_size = (244, 244),\n",
        "                                               class_mode = 'binary',\n",
        "                                               batch_size = N_BATCH)\n",
        "val_iter = val_datagen.flow_from_directory(valset_dir, target_size=(224, 224), class_mode = 'binary', batch_size = N_BATCH)\n",
        "test_iter = test_datagen.flow_from_directory(testset_dir, target_size=(224, 244), class_mode = 'binary', batch_size = N_BATCH )"
      ],
      "metadata": {
        "colab": {
          "base_uri": "https://localhost:8080/"
        },
        "id": "9blLiuQ1uGzf",
        "outputId": "ebd09bc8-5ca1-4633-ec52-3b1033c87361"
      },
      "execution_count": 5,
      "outputs": [
        {
          "output_type": "stream",
          "name": "stdout",
          "text": [
            "Found 2000 images belonging to 2 classes.\n",
            "Found 1000 images belonging to 2 classes.\n",
            "Found 1000 images belonging to 2 classes.\n"
          ]
        }
      ]
    },
    {
      "cell_type": "code",
      "source": [
        "train_iter.class_indices"
      ],
      "metadata": {
        "colab": {
          "base_uri": "https://localhost:8080/"
        },
        "id": "VmFBHG2luJjq",
        "outputId": "de876bc9-fe6f-498d-ea6c-92822aa01cd7"
      },
      "execution_count": 6,
      "outputs": [
        {
          "output_type": "execute_result",
          "data": {
            "text/plain": [
              "{'cats': 0, 'dogs': 1}"
            ]
          },
          "metadata": {},
          "execution_count": 6
        }
      ]
    },
    {
      "cell_type": "code",
      "source": [
        "v = next(train_iter)\n",
        "print(type(v))\n",
        "print(v[0].shape)\n",
        "print(v[1].shape)"
      ],
      "metadata": {
        "colab": {
          "base_uri": "https://localhost:8080/"
        },
        "id": "gkRqhEVQuKxf",
        "outputId": "936ffecc-0972-433e-bb49-231172fc0242"
      },
      "execution_count": 7,
      "outputs": [
        {
          "output_type": "stream",
          "name": "stdout",
          "text": [
            "<class 'tuple'>\n",
            "(100, 244, 244, 3)\n",
            "(100,)\n"
          ]
        }
      ]
    },
    {
      "cell_type": "code",
      "source": [
        "v[1][:10]"
      ],
      "metadata": {
        "colab": {
          "base_uri": "https://localhost:8080/"
        },
        "id": "5B53svD0uNB4",
        "outputId": "55c36076-acd5-4e51-9f29-50068e640ea8"
      },
      "execution_count": 8,
      "outputs": [
        {
          "output_type": "execute_result",
          "data": {
            "text/plain": [
              "array([0., 1., 1., 0., 1., 1., 1., 1., 1., 0.], dtype=float32)"
            ]
          },
          "metadata": {},
          "execution_count": 8
        }
      ]
    },
    {
      "cell_type": "markdown",
      "source": [
        "### Model Training(학습)"
      ],
      "metadata": {
        "id": "hHxDTv1luN73"
      }
    },
    {
      "cell_type": "code",
      "source": [
        "import os\n",
        "\n",
        "g_drive_path = '/content/drive/MyDrive/github'\n",
        "save_dir_path = os.path.join(g_drive_path, 'saved_model', 'cat_dog_model_no_aug')\n",
        "os.makedirs(save_dir_path, exist_ok = True)\n",
        "\n",
        "save_weight_path = os.path.join(save_dir_path, 'ckpt')\n",
        "\n",
        "mc_callback = keras.callbacks.ModelCheckpoint(filepath = save_weight_path,\n",
        "                                              save_weights_only = True,\n",
        "                                              save_best_only = True,\n",
        "                                              monitor = 'val_loss', verbose = 1)\n",
        "es_callback = keras.callbacks.EarlyStopping(monitor = 'val_loss', patience=10, verbose = 1)"
      ],
      "metadata": {
        "id": "GGiB7AwTuPh6"
      },
      "execution_count": 9,
      "outputs": []
    },
    {
      "cell_type": "code",
      "source": [
        "model = get_model()\n",
        "hist = model.fit(train_iter, epochs = N_EPOCH,\n",
        "                 steps_per_epoch = len(train_iter),\n",
        "                 validation_data = val_iter,\n",
        "                 validation_steps = len(val_iter),\n",
        "                 callbacks = [mc_callback, es_callback])"
      ],
      "metadata": {
        "colab": {
          "base_uri": "https://localhost:8080/"
        },
        "id": "a4dQPptjuSkz",
        "outputId": "4b4e12e8-09b6-4298-fc16-48cf01f8ab2f"
      },
      "execution_count": 10,
      "outputs": [
        {
          "output_type": "stream",
          "name": "stdout",
          "text": [
            "Epoch 1/200\n",
            "20/20 [==============================] - ETA: 0s - loss: 0.6934 - accuracy: 0.5140 \n",
            "Epoch 1: val_loss improved from inf to 0.68941, saving model to /content/drive/MyDrive/github/saved_model/cat_dog_model_no_aug/ckpt\n",
            "20/20 [==============================] - 907s 46s/step - loss: 0.6934 - accuracy: 0.5140 - val_loss: 0.6894 - val_accuracy: 0.5360\n",
            "Epoch 2/200\n",
            "20/20 [==============================] - ETA: 0s - loss: 0.6948 - accuracy: 0.5425\n",
            "Epoch 2: val_loss did not improve from 0.68941\n",
            "20/20 [==============================] - 19s 957ms/step - loss: 0.6948 - accuracy: 0.5425 - val_loss: 0.6896 - val_accuracy: 0.6100\n",
            "Epoch 3/200\n",
            "20/20 [==============================] - ETA: 0s - loss: 0.6903 - accuracy: 0.5345\n",
            "Epoch 3: val_loss improved from 0.68941 to 0.68200, saving model to /content/drive/MyDrive/github/saved_model/cat_dog_model_no_aug/ckpt\n",
            "20/20 [==============================] - 19s 927ms/step - loss: 0.6903 - accuracy: 0.5345 - val_loss: 0.6820 - val_accuracy: 0.5820\n",
            "Epoch 4/200\n",
            "20/20 [==============================] - ETA: 0s - loss: 0.6772 - accuracy: 0.5920\n",
            "Epoch 4: val_loss improved from 0.68200 to 0.67881, saving model to /content/drive/MyDrive/github/saved_model/cat_dog_model_no_aug/ckpt\n",
            "20/20 [==============================] - 23s 1s/step - loss: 0.6772 - accuracy: 0.5920 - val_loss: 0.6788 - val_accuracy: 0.6050\n",
            "Epoch 5/200\n",
            "20/20 [==============================] - ETA: 0s - loss: 0.6557 - accuracy: 0.6330\n",
            "Epoch 5: val_loss improved from 0.67881 to 0.64530, saving model to /content/drive/MyDrive/github/saved_model/cat_dog_model_no_aug/ckpt\n",
            "20/20 [==============================] - 19s 935ms/step - loss: 0.6557 - accuracy: 0.6330 - val_loss: 0.6453 - val_accuracy: 0.6630\n",
            "Epoch 6/200\n",
            "20/20 [==============================] - ETA: 0s - loss: 0.6305 - accuracy: 0.6605\n",
            "Epoch 6: val_loss did not improve from 0.64530\n",
            "20/20 [==============================] - 20s 979ms/step - loss: 0.6305 - accuracy: 0.6605 - val_loss: 0.6650 - val_accuracy: 0.5790\n",
            "Epoch 7/200\n",
            "20/20 [==============================] - ETA: 0s - loss: 0.5956 - accuracy: 0.6915\n",
            "Epoch 7: val_loss improved from 0.64530 to 0.64415, saving model to /content/drive/MyDrive/github/saved_model/cat_dog_model_no_aug/ckpt\n",
            "20/20 [==============================] - 19s 941ms/step - loss: 0.5956 - accuracy: 0.6915 - val_loss: 0.6441 - val_accuracy: 0.6260\n",
            "Epoch 8/200\n",
            "20/20 [==============================] - ETA: 0s - loss: 0.5670 - accuracy: 0.7035\n",
            "Epoch 8: val_loss improved from 0.64415 to 0.60696, saving model to /content/drive/MyDrive/github/saved_model/cat_dog_model_no_aug/ckpt\n",
            "20/20 [==============================] - 23s 1s/step - loss: 0.5670 - accuracy: 0.7035 - val_loss: 0.6070 - val_accuracy: 0.6550\n",
            "Epoch 9/200\n",
            "20/20 [==============================] - ETA: 0s - loss: 0.5371 - accuracy: 0.7300\n",
            "Epoch 9: val_loss did not improve from 0.60696\n",
            "20/20 [==============================] - 18s 920ms/step - loss: 0.5371 - accuracy: 0.7300 - val_loss: 0.6714 - val_accuracy: 0.6250\n",
            "Epoch 10/200\n",
            "20/20 [==============================] - ETA: 0s - loss: 0.5025 - accuracy: 0.7510\n",
            "Epoch 10: val_loss improved from 0.60696 to 0.60348, saving model to /content/drive/MyDrive/github/saved_model/cat_dog_model_no_aug/ckpt\n",
            "20/20 [==============================] - 19s 959ms/step - loss: 0.5025 - accuracy: 0.7510 - val_loss: 0.6035 - val_accuracy: 0.6960\n",
            "Epoch 11/200\n",
            "20/20 [==============================] - ETA: 0s - loss: 0.5031 - accuracy: 0.7480\n",
            "Epoch 11: val_loss did not improve from 0.60348\n",
            "20/20 [==============================] - 18s 901ms/step - loss: 0.5031 - accuracy: 0.7480 - val_loss: 0.6518 - val_accuracy: 0.6520\n",
            "Epoch 12/200\n",
            "20/20 [==============================] - ETA: 0s - loss: 0.4554 - accuracy: 0.7825\n",
            "Epoch 12: val_loss improved from 0.60348 to 0.56903, saving model to /content/drive/MyDrive/github/saved_model/cat_dog_model_no_aug/ckpt\n",
            "20/20 [==============================] - 19s 955ms/step - loss: 0.4554 - accuracy: 0.7825 - val_loss: 0.5690 - val_accuracy: 0.7100\n",
            "Epoch 13/200\n",
            "20/20 [==============================] - ETA: 0s - loss: 0.4296 - accuracy: 0.7945\n",
            "Epoch 13: val_loss did not improve from 0.56903\n",
            "20/20 [==============================] - 18s 904ms/step - loss: 0.4296 - accuracy: 0.7945 - val_loss: 0.7131 - val_accuracy: 0.6450\n",
            "Epoch 14/200\n",
            "20/20 [==============================] - ETA: 0s - loss: 0.4320 - accuracy: 0.8065\n",
            "Epoch 14: val_loss improved from 0.56903 to 0.49762, saving model to /content/drive/MyDrive/github/saved_model/cat_dog_model_no_aug/ckpt\n",
            "20/20 [==============================] - 19s 962ms/step - loss: 0.4320 - accuracy: 0.8065 - val_loss: 0.4976 - val_accuracy: 0.7510\n",
            "Epoch 15/200\n",
            "20/20 [==============================] - ETA: 0s - loss: 0.3809 - accuracy: 0.8230\n",
            "Epoch 15: val_loss did not improve from 0.49762\n",
            "20/20 [==============================] - 19s 941ms/step - loss: 0.3809 - accuracy: 0.8230 - val_loss: 0.5874 - val_accuracy: 0.7220\n",
            "Epoch 16/200\n",
            "20/20 [==============================] - ETA: 0s - loss: 0.3477 - accuracy: 0.8465\n",
            "Epoch 16: val_loss did not improve from 0.49762\n",
            "20/20 [==============================] - 18s 900ms/step - loss: 0.3477 - accuracy: 0.8465 - val_loss: 0.5652 - val_accuracy: 0.7290\n",
            "Epoch 17/200\n",
            "20/20 [==============================] - ETA: 0s - loss: 0.3246 - accuracy: 0.8650\n",
            "Epoch 17: val_loss improved from 0.49762 to 0.47829, saving model to /content/drive/MyDrive/github/saved_model/cat_dog_model_no_aug/ckpt\n",
            "20/20 [==============================] - 19s 932ms/step - loss: 0.3246 - accuracy: 0.8650 - val_loss: 0.4783 - val_accuracy: 0.7700\n",
            "Epoch 18/200\n",
            "20/20 [==============================] - ETA: 0s - loss: 0.2984 - accuracy: 0.8715\n",
            "Epoch 18: val_loss did not improve from 0.47829\n",
            "20/20 [==============================] - 18s 896ms/step - loss: 0.2984 - accuracy: 0.8715 - val_loss: 0.5354 - val_accuracy: 0.7420\n",
            "Epoch 19/200\n",
            "20/20 [==============================] - ETA: 0s - loss: 0.2444 - accuracy: 0.8945\n",
            "Epoch 19: val_loss did not improve from 0.47829\n",
            "20/20 [==============================] - 19s 936ms/step - loss: 0.2444 - accuracy: 0.8945 - val_loss: 0.5755 - val_accuracy: 0.7480\n",
            "Epoch 20/200\n",
            "20/20 [==============================] - ETA: 0s - loss: 0.2220 - accuracy: 0.9045\n",
            "Epoch 20: val_loss did not improve from 0.47829\n",
            "20/20 [==============================] - 18s 906ms/step - loss: 0.2220 - accuracy: 0.9045 - val_loss: 0.5350 - val_accuracy: 0.7670\n",
            "Epoch 21/200\n",
            "20/20 [==============================] - ETA: 0s - loss: 0.2095 - accuracy: 0.9085\n",
            "Epoch 21: val_loss did not improve from 0.47829\n",
            "20/20 [==============================] - 19s 939ms/step - loss: 0.2095 - accuracy: 0.9085 - val_loss: 0.5158 - val_accuracy: 0.7770\n",
            "Epoch 22/200\n",
            "20/20 [==============================] - ETA: 0s - loss: 0.1829 - accuracy: 0.9225\n",
            "Epoch 22: val_loss did not improve from 0.47829\n",
            "20/20 [==============================] - 18s 892ms/step - loss: 0.1829 - accuracy: 0.9225 - val_loss: 0.9040 - val_accuracy: 0.7140\n",
            "Epoch 23/200\n",
            "20/20 [==============================] - ETA: 0s - loss: 0.1507 - accuracy: 0.9415\n",
            "Epoch 23: val_loss did not improve from 0.47829\n",
            "20/20 [==============================] - 19s 935ms/step - loss: 0.1507 - accuracy: 0.9415 - val_loss: 0.8163 - val_accuracy: 0.7410\n",
            "Epoch 24/200\n",
            "20/20 [==============================] - ETA: 0s - loss: 0.1558 - accuracy: 0.9325\n",
            "Epoch 24: val_loss did not improve from 0.47829\n",
            "20/20 [==============================] - 18s 924ms/step - loss: 0.1558 - accuracy: 0.9325 - val_loss: 0.8376 - val_accuracy: 0.7350\n",
            "Epoch 25/200\n",
            "20/20 [==============================] - ETA: 0s - loss: 0.1004 - accuracy: 0.9620\n",
            "Epoch 25: val_loss did not improve from 0.47829\n",
            "20/20 [==============================] - 18s 910ms/step - loss: 0.1004 - accuracy: 0.9620 - val_loss: 0.7381 - val_accuracy: 0.7730\n",
            "Epoch 26/200\n",
            "20/20 [==============================] - ETA: 0s - loss: 0.0682 - accuracy: 0.9765\n",
            "Epoch 26: val_loss did not improve from 0.47829\n",
            "20/20 [==============================] - 18s 897ms/step - loss: 0.0682 - accuracy: 0.9765 - val_loss: 0.8970 - val_accuracy: 0.7570\n",
            "Epoch 27/200\n",
            "20/20 [==============================] - ETA: 0s - loss: 0.0563 - accuracy: 0.9730\n",
            "Epoch 27: val_loss did not improve from 0.47829\n",
            "20/20 [==============================] - 18s 896ms/step - loss: 0.0563 - accuracy: 0.9730 - val_loss: 0.9201 - val_accuracy: 0.7670\n",
            "Epoch 27: early stopping\n"
          ]
        }
      ]
    },
    {
      "cell_type": "code",
      "source": [
        "import matplotlib.pyplot as plt\n",
        "\n",
        "plt.figure(figsize=(10, 6))\n",
        "plt.plot(hist.epoch, hist.history['loss'], label='train')\n",
        "plt.plot(hist.epoch, hist.history['val_loss'], label='validation')\n",
        "plt.legend()\n",
        "plt.show()"
      ],
      "metadata": {
        "colab": {
          "base_uri": "https://localhost:8080/",
          "height": 401
        },
        "id": "U26jz066vuAB",
        "outputId": "9eb92a4d-0ead-4987-abe1-b7eeddedbfd1"
      },
      "execution_count": 11,
      "outputs": [
        {
          "output_type": "display_data",
          "data": {
            "text/plain": [
              "<Figure size 1000x600 with 1 Axes>"
            ],
            "image/png": "[encoded data removed]"
          },
          "metadata": {}
        }
      ]
    },
    {
      "cell_type": "markdown",
      "source": [
        "### 저장된 모댈 조회"
      ],
      "metadata": {
        "id": "FiswoI1iwBaV"
      }
    },
    {
      "cell_type": "code",
      "source": [
        "# 모델 생성\n",
        "saved_model1 = get_model()\n",
        "saved_model1.evaluate(test_iter)"
      ],
      "metadata": {
        "colab": {
          "base_uri": "https://localhost:8080/"
        },
        "id": "0n1Syx-cwEYK",
        "outputId": "cbbf2774-ff6a-4c87-bd38-d908d863d7e1"
      },
      "execution_count": 12,
      "outputs": [
        {
          "output_type": "stream",
          "name": "stdout",
          "text": [
            "10/10 [==============================] - 429s 47s/step - loss: 0.6933 - accuracy: 0.4890\n"
          ]
        },
        {
          "output_type": "execute_result",
          "data": {
            "text/plain": [
              "[0.6932801604270935, 0.48899999260902405]"
            ]
          },
          "metadata": {},
          "execution_count": 12
        }
      ]
    },
    {
      "cell_type": "code",
      "source": [
        "# 생성된 모델에 저장된 파라미터 덮어씌우기\n",
        "saved_model1.load_weights(save_weight_path)\n",
        "saved_model1.evaluate(test_iter)"
      ],
      "metadata": {
        "colab": {
          "base_uri": "https://localhost:8080/"
        },
        "id": "y0FIO-jXwMPu",
        "outputId": "db457302-4685-4d87-bf93-058fa1a6936c"
      },
      "execution_count": 14,
      "outputs": [
        {
          "output_type": "stream",
          "name": "stdout",
          "text": [
            "10/10 [==============================] - 6s 569ms/step - loss: 0.5188 - accuracy: 0.7680\n"
          ]
        },
        {
          "output_type": "execute_result",
          "data": {
            "text/plain": [
              "[0.5187986493110657, 0.7680000066757202]"
            ]
          },
          "metadata": {},
          "execution_count": 14
        }
      ]
    },
    {
      "cell_type": "markdown",
      "source": [
        "### 새로운 데이터 추론"
      ],
      "metadata": {
        "id": "91XmsF73wg1p"
      }
    },
    {
      "cell_type": "code",
      "source": [
        "from tensorflow.keras.preprocessing.image import load_img, img_to_array\n",
        "\n",
        "def load_preprocessing(image_path):\n",
        "    raw_img = load_img(image_path, target_size=(224, 224))\n",
        "    img_array = img_to_array(raw_img)\n",
        "    img_array = img_array[np.newaxis, ...]\n",
        "    img_array = img_array.astype('float32')/255\n",
        "    return img_array"
      ],
      "metadata": {
        "id": "qlg108pNwQnV"
      },
      "execution_count": 15,
      "outputs": []
    },
    {
      "cell_type": "code",
      "source": [
        "new_img_path = '/content/drive/MyDrive/github/cat.jpg'\n",
        "\n",
        "new_X = load_preprocessing(new_img_path)\n",
        "\n",
        "pred = saved_model1.predict(new_X)\n",
        "print(pred)\n",
        "print(np.where(pred>=0.5, '개', '고양이'))\n"
      ],
      "metadata": {
        "colab": {
          "base_uri": "https://localhost:8080/"
        },
        "id": "t-8OdahRw_EM",
        "outputId": "04822bff-d48a-4019-bc9e-04c5bb16805a"
      },
      "execution_count": 23,
      "outputs": [
        {
          "output_type": "stream",
          "name": "stdout",
          "text": [
            "1/1 [==============================] - 0s 135ms/step\n",
            "[[0.26518056]]\n",
            "[['고양이']]\n"
          ]
        }
      ]
    },
    {
      "cell_type": "code",
      "source": [],
      "metadata": {
        "id": "0msPYIEG53Zq"
      },
      "execution_count": null,
      "outputs": []
    }
  ]
}