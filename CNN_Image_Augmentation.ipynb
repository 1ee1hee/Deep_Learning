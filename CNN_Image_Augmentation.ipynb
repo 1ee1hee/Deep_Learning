{
  "nbformat": 4,
  "nbformat_minor": 0,
  "metadata": {
    "colab": {
      "provenance": [],
      "gpuType": "T4",
      "mount_file_id": "1bdGjLZ5s3RXtTqDF6tkoi474ac3RQ5zl",
      "authorship_tag": "ABX9TyOLa40p1TU62OVa3pKIS/Bs",
      "include_colab_link": true
    },
    "kernelspec": {
      "name": "python3",
      "display_name": "Python 3"
    },
    "language_info": {
      "name": "python"
    },
    "accelerator": "GPU"
  },
  "cells": [
    {
      "cell_type": "markdown",
      "metadata": {
        "id": "view-in-github",
        "colab_type": "text"
      },
      "source": [
        "<a href=\"https://colab.research.google.com/github/1ee1hee/Deep_Learning/blob/main/CNN_Image_Augmentation.ipynb\" target=\"_parent\"><img src=\"https://colab.research.google.com/assets/colab-badge.svg\" alt=\"Open In Colab\"/></a>"
      ]
    },
    {
      "cell_type": "markdown",
      "source": [
        "# CNN small datasets 학습\n",
        "- 학습할 Data의 개수가 많지 않을 때 CNN을 통한 모형 학습이 어려울 수 있음\n",
        "    - 딥러닝은 많은 수의 데이터를 통해 feature engineering 과정 없이 원하는 문제를 해결할 수 있다 => **Point: 많은 데이터수**\n",
        "- Data가 많지 않아 CNN 학습에 어려움이 있을 때 사용 가능한 방법\n",
        "    - Data augmentation 활용\n",
        "        - 원본 이미지의 색, 각도 등 약간 씩 변형한 이미지들을 추가로 만들어 데이터 수를 늘림\n",
        "    - Pre-trained network 활용\n",
        "        - 매우 큰 데이터셋으로 미리 Training한 모델의 파라미터를 가져와 문제에 맞게 모델을 재보정하여 사용\n",
        "        - 성능이 좋은 학습된 모델을 사용하므로 적은 데이터에도 좋은 성능을 낼 수 있음"
      ],
      "metadata": {
        "id": "SwaZ3UfiS-v3"
      }
    },
    {
      "cell_type": "markdown",
      "source": [
        "## Data for cats vs. dogs\n",
        "- 2013년 Kaggle의 computer vision competition data 활용 https://www.kaggle.com/c/dogs-vs-cats/data\n",
        "- 개와 고양이를 구분하기 위한 문제로 각 12,500개의 이미지를 포함\n",
        "- Medium-resolution color JPEGs\n",
        "- 25000장의 사진 중 4000장의 cats/dogs 사진(2000 cats, 2000 dogs) 만을 사용하여 학습하여 좋은 모형을 만들어 낼 수 있을까?\n",
        "    - 학습: 2000, 검증: 1000, 테스트: 1000\n",
        "    \n",
        "![cats_vs_dogs_samples](https://s3.amazonaws.com/book.keras.io/img/ch5/cats_vs_dogs_samples.jpg)"
      ],
      "metadata": {
        "id": "q83yyriVUBZ4"
      }
    },
    {
      "cell_type": "markdown",
      "source": [
        "### 하이퍼파라미터 정의"
      ],
      "metadata": {
        "id": "PnZaslnRtz5_"
      }
    },
    {
      "cell_type": "code",
      "source": [
        "LEARNING_RATE = 0.001\n",
        "N_EPOCH = 200\n",
        "N_BATCH = 100"
      ],
      "metadata": {
        "id": "AI9od3QVVUE6"
      },
      "execution_count": 1,
      "outputs": []
    },
    {
      "cell_type": "markdown",
      "source": [
        "### 모델 구현 및 학습\n",
        "\n",
        "- Input: $224 \\times 224$ 픽셀의 RGB layer\n",
        "- Output: cat or dog (binary classification)  \n",
        "- ImageDataGenerator를 이용해 파일시스템에 저장된 이미지 데이터셋을 학습시킨다."
      ],
      "metadata": {
        "id": "jR80BQnkt6eZ"
      }
    },
    {
      "cell_type": "code",
      "source": [
        "import tensorflow as tf\n",
        "from tensorflow import keras\n",
        "from tensorflow.keras import layers, models, optimizers\n",
        "from tensorflow.keras.preprocessing.image import ImageDataGenerator\n",
        "\n",
        "import numpy as np\n",
        "import random\n",
        "\n",
        "random.seed(0)\n",
        "np.random.seed(0)\n",
        "tf.random.set_seed(0)"
      ],
      "metadata": {
        "id": "2Jf4_0yut8G9"
      },
      "execution_count": 2,
      "outputs": []
    },
    {
      "cell_type": "code",
      "source": [
        "# 모델 생성\n",
        "def get_model():\n",
        "    model = keras.Sequential()\n",
        "\n",
        "    model.add(layers.Conv2D(filters = 64, kernel_size = 3, padding = 'same', activation = 'relu', input_shape=(224, 224, 3)))\n",
        "    model.add(layers.MaxPooling2D(padding = 'same'))\n",
        "\n",
        "    model.add(layers.Conv2D(filters = 64, kernel_size = 3, padding = 'same', activation = 'relu'))\n",
        "    model.add(layers.MaxPooling2D(padding = 'same'))\n",
        "\n",
        "    model.add(layers.Conv2D(filters = 128, kernel_size = 3, padding = 'same', activation = 'relu'))\n",
        "    model.add(layers.MaxPooling2D(padding = 'same'))\n",
        "\n",
        "    model.add(layers.Conv2D(filters = 128, kernel_size = 3, padding = 'same', activation = 'relu'))\n",
        "    model.add(layers.MaxPooling2D(padding = 'same'))\n",
        "\n",
        "    model.add(layers.Conv2D(filters = 256, kernel_size = 3, padding = 'same', activation = 'relu'))\n",
        "    model.add(layers.MaxPooling2D(padding = 'same'))\n",
        "\n",
        "    model.add(layers.Conv2D(filters = 256, kernel_size = 3, padding = 'same', activation = 'relu'))\n",
        "    model.add(layers.MaxPooling2D(padding = 'same'))\n",
        "\n",
        "    model.add(layers.Flatten())\n",
        "    model.add(layers.Dropout(rate = 0.5))\n",
        "    model.add(layers.Dense(units = 1, activation = 'sigmoid', name = 'binary_classification_output'))\n",
        "\n",
        "    model.compile(optimizer = optimizers.Adam(learning_rate = LEARNING_RATE),\n",
        "                  loss = 'binary_crossentropy', metrics = ['accuracy'])\n",
        "\n",
        "    return model"
      ],
      "metadata": {
        "id": "GLsRqcZQt_fj"
      },
      "execution_count": 12,
      "outputs": []
    },
    {
      "cell_type": "markdown",
      "source": [
        "### ImageDataGenerator 생성"
      ],
      "metadata": {
        "id": "pBbjKirzuAtl"
      }
    },
    {
      "cell_type": "code",
      "source": [
        "# 데이터셋 디렉토리 경로\n",
        "\n",
        "trainset_dir = '/content/drive/Othercomputers/mymy/GDrive/data/cats_and_dogs_small/train'\n",
        "valset_dir = '/content/drive/Othercomputers/mymy/GDrive/data/cats_and_dogs_small/validation'\n",
        "testset_dir = '/content/drive/Othercomputers/mymy/GDrive/data/cats_and_dogs_small/test'"
      ],
      "metadata": {
        "id": "h8IdpYMkuDat"
      },
      "execution_count": 13,
      "outputs": []
    },
    {
      "cell_type": "code",
      "source": [
        "# image augmentation 미적용\n",
        "train_datagen = ImageDataGenerator(rescale = 1./255)\n",
        "test_datagen = ImageDataGenerator(rescale = 1./255)\n",
        "val_datagen = ImageDataGenerator(rescale = 1./255)\n",
        "\n",
        "# Iterator 생성 -> raw data 파일과 연결\n",
        "train_iter = train_datagen.flow_from_directory(trainset_dir,\n",
        "                                               target_size = (244, 244),\n",
        "                                               class_mode = 'binary',\n",
        "                                               batch_size = N_BATCH)\n",
        "val_iter = val_datagen.flow_from_directory(valset_dir, target_size=(224, 224), class_mode = 'binary', batch_size = N_BATCH)\n",
        "test_iter = test_datagen.flow_from_directory(testset_dir, target_size=(224, 244), class_mode = 'binary', batch_size = N_BATCH )"
      ],
      "metadata": {
        "colab": {
          "base_uri": "https://localhost:8080/"
        },
        "id": "9blLiuQ1uGzf",
        "outputId": "22f60de6-b912-4e8b-b5de-9e3566881a71"
      },
      "execution_count": 14,
      "outputs": [
        {
          "output_type": "stream",
          "name": "stdout",
          "text": [
            "Found 2000 images belonging to 2 classes.\n",
            "Found 1000 images belonging to 2 classes.\n",
            "Found 1000 images belonging to 2 classes.\n"
          ]
        }
      ]
    },
    {
      "cell_type": "code",
      "source": [
        "train_iter.class_indices"
      ],
      "metadata": {
        "colab": {
          "base_uri": "https://localhost:8080/"
        },
        "id": "VmFBHG2luJjq",
        "outputId": "dd623ecb-14fc-48aa-aa0b-624a8f22828f"
      },
      "execution_count": 15,
      "outputs": [
        {
          "output_type": "execute_result",
          "data": {
            "text/plain": [
              "{'cats': 0, 'dogs': 1}"
            ]
          },
          "metadata": {},
          "execution_count": 15
        }
      ]
    },
    {
      "cell_type": "code",
      "source": [
        "v = next(train_iter)\n",
        "print(type(v))\n",
        "print(v[0].shape)\n",
        "print(v[1].shape)"
      ],
      "metadata": {
        "colab": {
          "base_uri": "https://localhost:8080/"
        },
        "id": "gkRqhEVQuKxf",
        "outputId": "fb9dea14-3978-449f-8e7b-f049e46852b7"
      },
      "execution_count": 16,
      "outputs": [
        {
          "output_type": "stream",
          "name": "stdout",
          "text": [
            "<class 'tuple'>\n",
            "(100, 244, 244, 3)\n",
            "(100,)\n"
          ]
        }
      ]
    },
    {
      "cell_type": "code",
      "source": [
        "v[1][:10]"
      ],
      "metadata": {
        "colab": {
          "base_uri": "https://localhost:8080/"
        },
        "id": "5B53svD0uNB4",
        "outputId": "4b6b209e-89bb-4ade-fb7e-a9e3b19984e1"
      },
      "execution_count": 17,
      "outputs": [
        {
          "output_type": "execute_result",
          "data": {
            "text/plain": [
              "array([0., 0., 1., 0., 0., 0., 0., 0., 1., 1.], dtype=float32)"
            ]
          },
          "metadata": {},
          "execution_count": 17
        }
      ]
    },
    {
      "cell_type": "markdown",
      "source": [
        "### Model Training(학습)"
      ],
      "metadata": {
        "id": "hHxDTv1luN73"
      }
    },
    {
      "cell_type": "code",
      "source": [
        "import os\n",
        "\n",
        "g_drive_path = '/content/drive/MyDrive/github'\n",
        "save_dir_path = os.path.join(g_drive_path, 'saved_model', 'cat_dog_model_no_aug')\n",
        "os.makedirs(save_dir_path, exist_ok = True)\n",
        "\n",
        "save_weight_path = os.path.join(save_dir_path, 'ckpt')\n",
        "\n",
        "mc_callback = keras.callbacks.ModelCheckpoint(filepath = save_weight_path,\n",
        "                                              save_weights_only = True,\n",
        "                                              save_best_only = True,\n",
        "                                              monitor = 'val_loss', verbose = 1)\n",
        "es_callback = keras.callbacks.EarlyStopping(monitor = 'val_loss', patience=10, verbose = 1)"
      ],
      "metadata": {
        "id": "GGiB7AwTuPh6"
      },
      "execution_count": 18,
      "outputs": []
    },
    {
      "cell_type": "code",
      "source": [
        "model = get_model()\n",
        "hist = model.fit(train_iter, epochs = N_EPOCH,\n",
        "                 steps_per_epoch = len(train_iter),\n",
        "                 validation_data = val_iter,\n",
        "                 validation_steps = len(val_iter),\n",
        "                 callbacks = [mc_callback, es_callback])"
      ],
      "metadata": {
        "colab": {
          "base_uri": "https://localhost:8080/"
        },
        "id": "a4dQPptjuSkz",
        "outputId": "ab04d2cb-f0b2-4cd7-bfe4-4e9f303bb3d7"
      },
      "execution_count": 20,
      "outputs": [
        {
          "output_type": "stream",
          "name": "stdout",
          "text": [
            "Epoch 1/200\n",
            "20/20 [==============================] - ETA: 0s - loss: 0.6943 - accuracy: 0.4860\n",
            "Epoch 1: val_loss did not improve from 0.49515\n",
            "20/20 [==============================] - 20s 897ms/step - loss: 0.6943 - accuracy: 0.4860 - val_loss: 0.6929 - val_accuracy: 0.5000\n",
            "Epoch 2/200\n",
            "20/20 [==============================] - ETA: 0s - loss: 0.6935 - accuracy: 0.5195\n",
            "Epoch 2: val_loss did not improve from 0.49515\n",
            "20/20 [==============================] - 18s 929ms/step - loss: 0.6935 - accuracy: 0.5195 - val_loss: 0.6934 - val_accuracy: 0.5000\n",
            "Epoch 3/200\n",
            "20/20 [==============================] - ETA: 0s - loss: 0.6935 - accuracy: 0.4990\n",
            "Epoch 3: val_loss did not improve from 0.49515\n",
            "20/20 [==============================] - 18s 889ms/step - loss: 0.6935 - accuracy: 0.4990 - val_loss: 0.6930 - val_accuracy: 0.5000\n",
            "Epoch 4/200\n",
            "20/20 [==============================] - ETA: 0s - loss: 0.6911 - accuracy: 0.5450\n",
            "Epoch 4: val_loss did not improve from 0.49515\n",
            "20/20 [==============================] - 18s 914ms/step - loss: 0.6911 - accuracy: 0.5450 - val_loss: 0.6853 - val_accuracy: 0.5030\n",
            "Epoch 5/200\n",
            "20/20 [==============================] - ETA: 0s - loss: 0.6760 - accuracy: 0.5440\n",
            "Epoch 5: val_loss did not improve from 0.49515\n",
            "20/20 [==============================] - 18s 916ms/step - loss: 0.6760 - accuracy: 0.5440 - val_loss: 0.6541 - val_accuracy: 0.5930\n",
            "Epoch 6/200\n",
            "20/20 [==============================] - ETA: 0s - loss: 0.6754 - accuracy: 0.5890\n",
            "Epoch 6: val_loss did not improve from 0.49515\n",
            "20/20 [==============================] - 18s 900ms/step - loss: 0.6754 - accuracy: 0.5890 - val_loss: 0.6573 - val_accuracy: 0.6100\n",
            "Epoch 7/200\n",
            "20/20 [==============================] - ETA: 0s - loss: 0.6375 - accuracy: 0.6435\n",
            "Epoch 7: val_loss did not improve from 0.49515\n",
            "20/20 [==============================] - 19s 930ms/step - loss: 0.6375 - accuracy: 0.6435 - val_loss: 0.6533 - val_accuracy: 0.6290\n",
            "Epoch 8/200\n",
            "20/20 [==============================] - ETA: 0s - loss: 0.6236 - accuracy: 0.6505\n",
            "Epoch 8: val_loss did not improve from 0.49515\n",
            "20/20 [==============================] - 18s 891ms/step - loss: 0.6236 - accuracy: 0.6505 - val_loss: 0.6766 - val_accuracy: 0.5580\n",
            "Epoch 9/200\n",
            "20/20 [==============================] - ETA: 0s - loss: 0.5998 - accuracy: 0.6695\n",
            "Epoch 9: val_loss did not improve from 0.49515\n",
            "20/20 [==============================] - 18s 912ms/step - loss: 0.5998 - accuracy: 0.6695 - val_loss: 0.6230 - val_accuracy: 0.6370\n",
            "Epoch 10/200\n",
            "20/20 [==============================] - ETA: 0s - loss: 0.5720 - accuracy: 0.7000\n",
            "Epoch 10: val_loss did not improve from 0.49515\n",
            "20/20 [==============================] - 18s 914ms/step - loss: 0.5720 - accuracy: 0.7000 - val_loss: 0.5839 - val_accuracy: 0.6820\n",
            "Epoch 11/200\n",
            "20/20 [==============================] - ETA: 0s - loss: 0.5532 - accuracy: 0.7210\n",
            "Epoch 11: val_loss did not improve from 0.49515\n",
            "20/20 [==============================] - 18s 912ms/step - loss: 0.5532 - accuracy: 0.7210 - val_loss: 0.5769 - val_accuracy: 0.6970\n",
            "Epoch 12/200\n",
            "20/20 [==============================] - ETA: 0s - loss: 0.5375 - accuracy: 0.7175\n",
            "Epoch 12: val_loss did not improve from 0.49515\n",
            "20/20 [==============================] - 18s 919ms/step - loss: 0.5375 - accuracy: 0.7175 - val_loss: 0.6250 - val_accuracy: 0.6470\n",
            "Epoch 13/200\n",
            "20/20 [==============================] - ETA: 0s - loss: 0.5071 - accuracy: 0.7500\n",
            "Epoch 13: val_loss did not improve from 0.49515\n",
            "20/20 [==============================] - 18s 900ms/step - loss: 0.5071 - accuracy: 0.7500 - val_loss: 0.6018 - val_accuracy: 0.7230\n",
            "Epoch 14/200\n",
            "20/20 [==============================] - ETA: 0s - loss: 0.5106 - accuracy: 0.7490\n",
            "Epoch 14: val_loss did not improve from 0.49515\n",
            "20/20 [==============================] - 18s 905ms/step - loss: 0.5106 - accuracy: 0.7490 - val_loss: 0.5481 - val_accuracy: 0.7100\n",
            "Epoch 15/200\n",
            "20/20 [==============================] - ETA: 0s - loss: 0.4934 - accuracy: 0.7630\n",
            "Epoch 15: val_loss did not improve from 0.49515\n",
            "20/20 [==============================] - 19s 925ms/step - loss: 0.4934 - accuracy: 0.7630 - val_loss: 0.5296 - val_accuracy: 0.7290\n",
            "Epoch 16/200\n",
            "20/20 [==============================] - ETA: 0s - loss: 0.4429 - accuracy: 0.7925\n",
            "Epoch 16: val_loss did not improve from 0.49515\n",
            "20/20 [==============================] - 18s 894ms/step - loss: 0.4429 - accuracy: 0.7925 - val_loss: 0.5167 - val_accuracy: 0.7580\n",
            "Epoch 17/200\n",
            "20/20 [==============================] - ETA: 0s - loss: 0.4117 - accuracy: 0.8210\n",
            "Epoch 17: val_loss did not improve from 0.49515\n",
            "20/20 [==============================] - 23s 1s/step - loss: 0.4117 - accuracy: 0.8210 - val_loss: 0.5019 - val_accuracy: 0.7600\n",
            "Epoch 18/200\n",
            "20/20 [==============================] - ETA: 0s - loss: 0.3866 - accuracy: 0.8250\n",
            "Epoch 18: val_loss did not improve from 0.49515\n",
            "20/20 [==============================] - 18s 903ms/step - loss: 0.3866 - accuracy: 0.8250 - val_loss: 0.5419 - val_accuracy: 0.7480\n",
            "Epoch 19/200\n",
            "20/20 [==============================] - ETA: 0s - loss: 0.3477 - accuracy: 0.8425\n",
            "Epoch 19: val_loss did not improve from 0.49515\n",
            "20/20 [==============================] - 18s 902ms/step - loss: 0.3477 - accuracy: 0.8425 - val_loss: 0.4958 - val_accuracy: 0.7700\n",
            "Epoch 20/200\n",
            "20/20 [==============================] - ETA: 0s - loss: 0.2833 - accuracy: 0.8770\n",
            "Epoch 20: val_loss did not improve from 0.49515\n",
            "20/20 [==============================] - 19s 941ms/step - loss: 0.2833 - accuracy: 0.8770 - val_loss: 0.6970 - val_accuracy: 0.7290\n",
            "Epoch 21/200\n",
            "20/20 [==============================] - ETA: 0s - loss: 0.2905 - accuracy: 0.8760\n",
            "Epoch 21: val_loss did not improve from 0.49515\n",
            "20/20 [==============================] - 18s 893ms/step - loss: 0.2905 - accuracy: 0.8760 - val_loss: 0.5353 - val_accuracy: 0.7660\n",
            "Epoch 22/200\n",
            "20/20 [==============================] - ETA: 0s - loss: 0.2332 - accuracy: 0.9030\n",
            "Epoch 22: val_loss did not improve from 0.49515\n",
            "20/20 [==============================] - 22s 1s/step - loss: 0.2332 - accuracy: 0.9030 - val_loss: 0.6272 - val_accuracy: 0.7510\n",
            "Epoch 23/200\n",
            "20/20 [==============================] - ETA: 0s - loss: 0.1986 - accuracy: 0.9170\n",
            "Epoch 23: val_loss did not improve from 0.49515\n",
            "20/20 [==============================] - 19s 960ms/step - loss: 0.1986 - accuracy: 0.9170 - val_loss: 0.6148 - val_accuracy: 0.7740\n",
            "Epoch 24/200\n",
            "20/20 [==============================] - ETA: 0s - loss: 0.1614 - accuracy: 0.9410\n",
            "Epoch 24: val_loss did not improve from 0.49515\n",
            "20/20 [==============================] - 18s 915ms/step - loss: 0.1614 - accuracy: 0.9410 - val_loss: 0.6409 - val_accuracy: 0.7760\n",
            "Epoch 25/200\n",
            "20/20 [==============================] - ETA: 0s - loss: 0.1455 - accuracy: 0.9425\n",
            "Epoch 25: val_loss did not improve from 0.49515\n",
            "20/20 [==============================] - 18s 908ms/step - loss: 0.1455 - accuracy: 0.9425 - val_loss: 0.6456 - val_accuracy: 0.7770\n",
            "Epoch 26/200\n",
            "20/20 [==============================] - ETA: 0s - loss: 0.1208 - accuracy: 0.9560\n",
            "Epoch 26: val_loss did not improve from 0.49515\n",
            "20/20 [==============================] - 18s 927ms/step - loss: 0.1208 - accuracy: 0.9560 - val_loss: 0.7325 - val_accuracy: 0.7590\n",
            "Epoch 27/200\n",
            "20/20 [==============================] - ETA: 0s - loss: 0.0949 - accuracy: 0.9660\n",
            "Epoch 27: val_loss did not improve from 0.49515\n",
            "20/20 [==============================] - 19s 952ms/step - loss: 0.0949 - accuracy: 0.9660 - val_loss: 0.7124 - val_accuracy: 0.7840\n",
            "Epoch 28/200\n",
            "20/20 [==============================] - ETA: 0s - loss: 0.0682 - accuracy: 0.9760\n",
            "Epoch 28: val_loss did not improve from 0.49515\n",
            "20/20 [==============================] - 18s 911ms/step - loss: 0.0682 - accuracy: 0.9760 - val_loss: 0.8271 - val_accuracy: 0.7720\n",
            "Epoch 29/200\n",
            "20/20 [==============================] - ETA: 0s - loss: 0.0590 - accuracy: 0.9795\n",
            "Epoch 29: val_loss did not improve from 0.49515\n",
            "20/20 [==============================] - 18s 906ms/step - loss: 0.0590 - accuracy: 0.9795 - val_loss: 0.9592 - val_accuracy: 0.7540\n",
            "Epoch 29: early stopping\n"
          ]
        }
      ]
    },
    {
      "cell_type": "code",
      "source": [
        "import matplotlib.pyplot as plt\n",
        "\n",
        "plt.figure(figsize=(10, 6))\n",
        "plt.plot(hist.epoch, hist.history['loss'], label='train')\n",
        "plt.plot(hist.epoch, hist.history['val_loss'], label='validation')\n",
        "plt.legend()\n",
        "plt.show()"
      ],
      "metadata": {
        "colab": {
          "base_uri": "https://localhost:8080/",
          "height": 480
        },
        "id": "U26jz066vuAB",
        "outputId": "5c44e2e2-5fd3-4330-9a51-5047fc4f47ac"
      },
      "execution_count": 21,
      "outputs": [
        {
          "output_type": "display_data",
          "data": {
            "text/plain": [
              "<Figure size 1000x600 with 1 Axes>"
            ],
            "image/png": "[encoded data removed]"
          },
          "metadata": {}
        }
      ]
    },
    {
      "cell_type": "markdown",
      "source": [
        "### 저장된 모델 조회"
      ],
      "metadata": {
        "id": "FiswoI1iwBaV"
      }
    },
    {
      "cell_type": "code",
      "source": [
        "# 모델 생성\n",
        "saved_model1 = get_model()\n",
        "saved_model1.evaluate(test_iter)"
      ],
      "metadata": {
        "colab": {
          "base_uri": "https://localhost:8080/"
        },
        "id": "0n1Syx-cwEYK",
        "outputId": "c6387b73-24a1-4035-9993-0c97d7e0eb85"
      },
      "execution_count": 22,
      "outputs": [
        {
          "output_type": "stream",
          "name": "stdout",
          "text": [
            "10/10 [==============================] - 431s 47s/step - loss: 0.6942 - accuracy: 0.5000\n"
          ]
        },
        {
          "output_type": "execute_result",
          "data": {
            "text/plain": [
              "[0.6942421793937683, 0.5]"
            ]
          },
          "metadata": {},
          "execution_count": 22
        }
      ]
    },
    {
      "cell_type": "code",
      "source": [
        "# 생성된 모델에 저장된 파라미터 덮어씌우기\n",
        "saved_model1.load_weights(save_weight_path)\n",
        "saved_model1.evaluate(test_iter)"
      ],
      "metadata": {
        "colab": {
          "base_uri": "https://localhost:8080/"
        },
        "id": "y0FIO-jXwMPu",
        "outputId": "676fadf8-2b95-41f5-a388-5b6ee49d6b8f"
      },
      "execution_count": 23,
      "outputs": [
        {
          "output_type": "stream",
          "name": "stdout",
          "text": [
            "10/10 [==============================] - 6s 602ms/step - loss: 0.4846 - accuracy: 0.7720\n"
          ]
        },
        {
          "output_type": "execute_result",
          "data": {
            "text/plain": [
              "[0.48457878828048706, 0.7720000147819519]"
            ]
          },
          "metadata": {},
          "execution_count": 23
        }
      ]
    },
    {
      "cell_type": "markdown",
      "source": [
        "### 새로운 데이터 추론"
      ],
      "metadata": {
        "id": "91XmsF73wg1p"
      }
    },
    {
      "cell_type": "code",
      "source": [
        "from tensorflow.keras.preprocessing.image import load_img, img_to_array\n",
        "\n",
        "def load_preprocessing(image_path):\n",
        "    raw_img = load_img(image_path, target_size=(224, 224))\n",
        "    img_array = img_to_array(raw_img)\n",
        "    img_array = img_array[np.newaxis, ...]\n",
        "    img_array = img_array.astype('float32')/255\n",
        "    return img_array"
      ],
      "metadata": {
        "id": "qlg108pNwQnV"
      },
      "execution_count": 24,
      "outputs": []
    },
    {
      "cell_type": "code",
      "source": [
        "new_img_path = '/content/drive/MyDrive/github/dog.jpg'\n",
        "\n",
        "new_X = load_preprocessing(new_img_path)\n",
        "\n",
        "pred = saved_model1.predict(new_X)\n",
        "print(pred)\n",
        "print(np.where(pred>=0.5, '개', '고양이'))\n"
      ],
      "metadata": {
        "colab": {
          "base_uri": "https://localhost:8080/"
        },
        "id": "t-8OdahRw_EM",
        "outputId": "ec30e70d-4c18-4067-af36-7188e9853ba7"
      },
      "execution_count": 27,
      "outputs": [
        {
          "output_type": "stream",
          "name": "stdout",
          "text": [
            "1/1 [==============================] - 0s 19ms/step\n",
            "[[0.81972915]]\n",
            "[['개']]\n"
          ]
        }
      ]
    },
    {
      "cell_type": "markdown",
      "source": [
        "## Image data augmentation 사용\n",
        "- 학습 이미지의 수가 적어서 overfitting이 발생할 가능성을 줄이기 위해 기존 훈련 데이터로 부터 이비지 변환을 통해 이미지(데이터)를 늘리는 작업을 Image augmentation이라 함\n",
        "- train_set에만 적용, validation, test set에는 적용하지 않는다(rescaling만 함)"
      ],
      "metadata": {
        "id": "uyHAoJZ8v42I"
      }
    },
    {
      "cell_type": "markdown",
      "source": [
        "### ImageDatagenerator 생성"
      ],
      "metadata": {
        "id": "GSpoYdyHwtk7"
      }
    },
    {
      "cell_type": "code",
      "source": [
        "# 데이터셋 디렉토리 경로\n",
        "\n",
        "trainset_dir = '/content/drive/Othercomputers/mymy/GDrive/data/cats_and_dogs_small/train'\n",
        "valset_dir = '/content/drive/Othercomputers/mymy/GDrive/data/cats_and_dogs_small/validation'\n",
        "testset_dir = '/content/drive/Othercomputers/mymy/GDrive/data/cats_and_dogs_small/test'"
      ],
      "metadata": {
        "id": "0msPYIEG53Zq"
      },
      "execution_count": 28,
      "outputs": []
    },
    {
      "cell_type": "code",
      "source": [
        "# train ImageDataGenerator 생성 => Image Augmentation 설정(train set에만 설정)\n",
        "train_datagen2 = ImageDataGenerator(rescale = 1./255,\n",
        "                                    rotation_range = 40,\n",
        "                                    width_shift_range = 0.2,\n",
        "                                    height_shift_range = 0.2,\n",
        "                                    shear_range = 5,\n",
        "                                    zoom_range = 0.2,\n",
        "                                    horizontal_flip = True,\n",
        "                                    vertical_flip = True,\n",
        "                                    brightness_range = (0.5, 1.5),\n",
        "                                    fill_mode = 'constant'\n",
        "                                    )\n",
        "val_datagen2 = ImageDataGenerator(rescale = 1./255)\n",
        "test_datagen2 = ImageDataGenerator(rescale = 1./255)"
      ],
      "metadata": {
        "id": "uk0ov_wAwzao"
      },
      "execution_count": 29,
      "outputs": []
    },
    {
      "cell_type": "code",
      "source": [
        "train_iter2 = train_datagen2.flow_from_directory(trainset_dir, target_size=(224, 224), class_mode = 'binary', batch_size = N_BATCH)\n",
        "val_iter2 = val_datagen2.flow_from_directory(valset_dir, target_size=(224, 224), class_mode = 'binary', batch_size = N_BATCH)\n",
        "test_iter2 = test_datagen2.flow_from_directory(testset_dir, target_size=(224, 224), class_mode = 'binary', batch_size = N_BATCH)"
      ],
      "metadata": {
        "colab": {
          "base_uri": "https://localhost:8080/"
        },
        "id": "2BbM2e36xuyv",
        "outputId": "1c7583dd-b9be-4ac4-d56f-b29bf85c0b66"
      },
      "execution_count": 30,
      "outputs": [
        {
          "output_type": "stream",
          "name": "stdout",
          "text": [
            "Found 2000 images belonging to 2 classes.\n",
            "Found 1000 images belonging to 2 classes.\n",
            "Found 1000 images belonging to 2 classes.\n"
          ]
        }
      ]
    },
    {
      "cell_type": "markdown",
      "source": [
        "### 모델 생성, 컴파일, 학습"
      ],
      "metadata": {
        "id": "_1Rs3Fvwyl-X"
      }
    },
    {
      "cell_type": "code",
      "source": [
        "import os\n",
        "\n",
        "g_drive_path = '/content/drive/MyDrive/github'\n",
        "save_dir_path = os.path.join(g_drive_path, 'saved_model', 'cat_dog_model_aug')\n",
        "mc_callback2 = keras.callbacks.ModelCheckpoint(save_dir_path, save_best_only = True, monitor = 'val_loss', verbose = 1)\n",
        "es_callback2 = keras.callbacks.EarlyStopping(monitor = 'val_loss', patience = 10, verbose = 1)"
      ],
      "metadata": {
        "id": "tBZDeeDeyoQg"
      },
      "execution_count": 31,
      "outputs": []
    },
    {
      "cell_type": "code",
      "source": [
        "model2 = get_model()\n",
        "hist2 = model2.fit(train_iter2, epochs = N_EPOCH,\n",
        "                   steps_per_epoch = len(train_iter2),\n",
        "                   validation_data = val_iter2,\n",
        "                   validation_steps = len(val_iter2),\n",
        "                   callbacks = [mc_callback2, es_callback2]\n",
        "                   )"
      ],
      "metadata": {
        "colab": {
          "base_uri": "https://localhost:8080/"
        },
        "id": "rJvVYoDqzcMH",
        "outputId": "634b1841-5624-42fe-89fc-7e4b6e48d490"
      },
      "execution_count": 32,
      "outputs": [
        {
          "output_type": "stream",
          "name": "stdout",
          "text": [
            "Epoch 1/200\n",
            "20/20 [==============================] - ETA: 0s - loss: 0.6958 - accuracy: 0.4810\n",
            "Epoch 1: val_loss improved from inf to 0.69309, saving model to /content/drive/MyDrive/github/saved_model/cat_dog_model_aug\n",
            "20/20 [==============================] - 48s 2s/step - loss: 0.6958 - accuracy: 0.4810 - val_loss: 0.6931 - val_accuracy: 0.5110\n",
            "Epoch 2/200\n",
            "20/20 [==============================] - ETA: 0s - loss: 0.6934 - accuracy: 0.4990\n",
            "Epoch 2: val_loss did not improve from 0.69309\n",
            "20/20 [==============================] - 41s 2s/step - loss: 0.6934 - accuracy: 0.4990 - val_loss: 0.6931 - val_accuracy: 0.5000\n",
            "Epoch 3/200\n",
            "20/20 [==============================] - ETA: 0s - loss: 0.6933 - accuracy: 0.4775\n",
            "Epoch 3: val_loss did not improve from 0.69309\n",
            "20/20 [==============================] - 41s 2s/step - loss: 0.6933 - accuracy: 0.4775 - val_loss: 0.6931 - val_accuracy: 0.5000\n",
            "Epoch 4/200\n",
            "20/20 [==============================] - ETA: 0s - loss: 0.6925 - accuracy: 0.5200\n",
            "Epoch 4: val_loss did not improve from 0.69309\n",
            "20/20 [==============================] - 41s 2s/step - loss: 0.6925 - accuracy: 0.5200 - val_loss: 0.6959 - val_accuracy: 0.5000\n",
            "Epoch 5/200\n",
            "20/20 [==============================] - ETA: 0s - loss: 0.6939 - accuracy: 0.4985\n",
            "Epoch 5: val_loss did not improve from 0.69309\n",
            "20/20 [==============================] - 41s 2s/step - loss: 0.6939 - accuracy: 0.4985 - val_loss: 0.6932 - val_accuracy: 0.5000\n",
            "Epoch 6/200\n",
            "20/20 [==============================] - ETA: 0s - loss: 0.6932 - accuracy: 0.5010\n",
            "Epoch 6: val_loss did not improve from 0.69309\n",
            "20/20 [==============================] - 40s 2s/step - loss: 0.6932 - accuracy: 0.5010 - val_loss: 0.6932 - val_accuracy: 0.5000\n",
            "Epoch 7/200\n",
            "20/20 [==============================] - ETA: 0s - loss: 0.6932 - accuracy: 0.4930\n",
            "Epoch 7: val_loss did not improve from 0.69309\n",
            "20/20 [==============================] - 40s 2s/step - loss: 0.6932 - accuracy: 0.4930 - val_loss: 0.6931 - val_accuracy: 0.5000\n",
            "Epoch 8/200\n",
            "20/20 [==============================] - ETA: 0s - loss: 0.6931 - accuracy: 0.5090\n",
            "Epoch 8: val_loss did not improve from 0.69309\n",
            "20/20 [==============================] - 41s 2s/step - loss: 0.6931 - accuracy: 0.5090 - val_loss: 0.6931 - val_accuracy: 0.5000\n",
            "Epoch 9/200\n",
            "20/20 [==============================] - ETA: 0s - loss: 0.6933 - accuracy: 0.4825\n",
            "Epoch 9: val_loss did not improve from 0.69309\n",
            "20/20 [==============================] - 41s 2s/step - loss: 0.6933 - accuracy: 0.4825 - val_loss: 0.6931 - val_accuracy: 0.5000\n",
            "Epoch 10/200\n",
            "20/20 [==============================] - ETA: 0s - loss: 0.6932 - accuracy: 0.4885\n",
            "Epoch 10: val_loss did not improve from 0.69309\n",
            "20/20 [==============================] - 41s 2s/step - loss: 0.6932 - accuracy: 0.4885 - val_loss: 0.6932 - val_accuracy: 0.5000\n",
            "Epoch 11/200\n",
            "20/20 [==============================] - ETA: 0s - loss: 0.6932 - accuracy: 0.4895\n",
            "Epoch 11: val_loss did not improve from 0.69309\n",
            "20/20 [==============================] - 41s 2s/step - loss: 0.6932 - accuracy: 0.4895 - val_loss: 0.6931 - val_accuracy: 0.5000\n",
            "Epoch 11: early stopping\n"
          ]
        }
      ]
    },
    {
      "cell_type": "code",
      "source": [
        "from tensorflow.keras import models\n",
        "from tensorflow.keras.preprocessing.image import load_img, img_to_array\n",
        "\n",
        "saved_model2 = models.load_model('/content/drive/MyDrive/github/saved_model/cat_dog_model_aug')"
      ],
      "metadata": {
        "id": "FOHg0ffaz8nc"
      },
      "execution_count": 33,
      "outputs": []
    },
    {
      "cell_type": "markdown",
      "source": [
        "### 새로운 데이터 추론"
      ],
      "metadata": {
        "id": "aYNPCmQA0KUr"
      }
    },
    {
      "cell_type": "code",
      "source": [
        "import numpy as np\n",
        "\n",
        "def load_preprocessing_image(path):\n",
        "    raw_img = load_img(path, target_size = (224, 224))\n",
        "    img_array = img_to_array(raw_img)\n",
        "    img_array = img_array[np.newaxis, ...]\n",
        "    img_array = img_array.astype('float32')/255\n",
        "    return img_array"
      ],
      "metadata": {
        "id": "bS8Xk5n30NIY"
      },
      "execution_count": 34,
      "outputs": []
    },
    {
      "cell_type": "code",
      "source": [
        "img_path = '/content/drive/MyDrive/github/cat.jpg'\n",
        "data = load_preprocessing_image(img_path)\n",
        "pred = saved_model2.predict(data)\n",
        "pred_label = np.where(pred[0] >= 0.5, '개', '고양이')\n",
        "print(pred[0], pred_label)"
      ],
      "metadata": {
        "colab": {
          "base_uri": "https://localhost:8080/"
        },
        "id": "kFN55EzCDJef",
        "outputId": "fadc06ed-b47b-4f86-c448-5750f0833e6a"
      },
      "execution_count": 35,
      "outputs": [
        {
          "output_type": "stream",
          "name": "stdout",
          "text": [
            "1/1 [==============================] - 0s 92ms/step\n",
            "[0.49979398] ['고양이']\n"
          ]
        }
      ]
    }
  ]
}