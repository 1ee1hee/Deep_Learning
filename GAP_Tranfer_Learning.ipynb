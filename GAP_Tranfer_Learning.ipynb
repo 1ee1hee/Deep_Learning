{
 "cells": [
  {
   "cell_type": "markdown",
   "metadata": {},
   "source": [
    "# GlobalAveragePooling(GAP)\n",
    "- 입력 Feature map의 채널별로 평균값을 추출하여 1 x 1 x channel의 Feature map을 생성하는 Pooling\n",
    "- `model.add(keras.layers.GlobalAveragePooling2D())`\n",
    "\n",
    "![image](https://velog.velcdn.com/images/ppippi/post/79a7ed0a-35f4-40a3-8b93-017edea3c141/image.png)\n",
    "\n",
    "- Feature Extraction layer에서 추출한 Feature map을 Classifier layer로 Flatten해서 전달하면 많은 연결녿와 파라미터가 필요. GAP를 사용하면 노드와 파라미터의 개수를 효과적으로 줄일 수 있음\n",
    "- Feature map의 채널수가 많을 경우 GAP를 사용하는 것이 효과적, 채널수가 적다면 Flatten을 사용하는 것이 좋음\n",
    "\n",
    "![image](https://media.springernature.com/full/springer-static/image/chp%3A10.1007%2F978-3-030-34113-8_22/MediaObjects/491550_1_En_22_Fig1_HTML.png?as=webp)"
   ]
  },
  {
   "cell_type": "markdown",
   "metadata": {},
   "source": [
    "## Pretrained Model\n",
    "- 다른 목적을 위해 미리 학습된 모델\n",
    "- Pretrained model을 현재 해결하려는 문제에 이용\n",
    "- 대부분 만들려고 하는 네트워크 모델에 포함시켜 사용\n",
    "    - 이런 방식이 Transfer Learning (전이학습)"
   ]
  },
  {
   "cell_type": "markdown",
   "metadata": {},
   "source": [
    "## Keras에서 제공하는 Pretrained Model\n",
    "- tensorflow.keras.applications 패키지를 통해 제공\n",
    "- Modules\n",
    "    - 각 모델별 입력 Image 전처리 함수 제공\n",
    "- Functions\n",
    "    - 각 모델 생성함수\n",
    "- 모델 생성함수의 주요 매개변수\n",
    "    - `weights`: 모델의 학습된 weight 지정\n",
    "        - 기본값: 'imagenet'. ImageNet 데이터셋으로 학습된 weight를 가진 모델 생성\n",
    "    - `include_top`: fully connected layer(분류기)를 포함할지 여부. True: 포함, False: 포함 안함\n",
    "        - False를 지정하면 Feature Extractor인 Convlolution Layer들로만 구성된 모델이 생성\n",
    "    - `input_shape`: Input(입력)이미지의 크기 shape, 3D 텐서로 지정(높이, 너비, 채널). 기본값: (224, 224, 3)"
   ]
  },
  {
   "cell_type": "markdown",
   "metadata": {},
   "source": [
    "> 딥러닝 모델기반 appliction 개발 시 대부분 Transger Learning을 함.\n",
    "> 다양한 분야에서 다양한 네트워크 모델들이 구현되어 공개 되어 있으며 학습된 Parameter들도 제공 됨.\n",
    "> [paperswithcode](https://paperswithcode.com/)에서 State Of The Art(SOTA) 논문들과 그 구현된 모델을 확인할 수 있다. \n",
    "\n",
    "> **State Of The Art(SOTA)**: 특정 시점에 특정 분야에서 가장 성능이 좋은 모델"
   ]
  },
  {
   "cell_type": "code",
   "execution_count": null,
   "metadata": {},
   "outputs": [],
   "source": []
  },
  {
   "cell_type": "code",
   "execution_count": null,
   "metadata": {},
   "outputs": [],
   "source": []
  }
 ],
 "metadata": {
  "language_info": {
   "name": "python"
  },
  "orig_nbformat": 4
 },
 "nbformat": 4,
 "nbformat_minor": 2
}
