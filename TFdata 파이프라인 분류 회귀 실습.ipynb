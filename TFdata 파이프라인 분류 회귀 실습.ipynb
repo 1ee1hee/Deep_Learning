{
 "cells": [
  {
   "cell_type": "markdown",
   "metadata": {},
   "source": [
    "# tf.data 모듈\n",
    "- 데이터 입력 파이프라인을 위한 모듈\n",
    "    - 모델 학습 / 평가를 위한 데이터셋을 제공(feeding)하기 위한 모듈\n",
    "    - raw dataset에서 입력을 위한 **전처리, 배치 크기, shuffling** 등을 한번에 처리할 수 있게 한다\n",
    "- tf.data.Dataset 추상 클래스에서 상속된 여러가지 클래스들을 제공\n",
    "    - 입력 소스의 제공 형태, 어떤 처리를 하는지에 따라 다양한 하위 클래스들이 제공"
   ]
  },
  {
   "cell_type": "markdown",
   "metadata": {},
   "source": [
    "## Dataset API 사용\n",
    "1. **Dataset 생성**\n",
    "    - raw dataset을 지정 (Loading)\n",
    "    - from_tensor_slices(), from_generator() 클래스 메소드, tf.dataTFRecordDataset 클래스등을 사용해 메모리나 파일에 있는 데이터를 Dataset으로 만든다\n",
    "    - **from_tensor_slices()**: 메모리의 리스트, 넘파이 배열, 텐서플로 자료형에서 데이터를 생성\n",
    "2. **제공 데이터 전처리**\n",
    "    - **map(함수)**: Dataset이 제공하는 원소를 처리해 변환된 원소를 제공\n",
    "        - 함수: 원소를 어떻게 변환할 지 정의한 함수를 매개변수로 전달\n",
    "            - 매개변수: Dataset이 제공하는 원소를 받을 변수\n",
    "            - 반환값: Dataset이 제공한 원소를 변경처리한 값\n",
    "    - **filter(함수)**: Dataset이 제공하는 원소중 특정 조건을 만족하는(True)인 원소들만 제공\n",
    "        - 함수: 원소가 특정조건을 만족하는지 여부를 확인하는 로직을 정의한 함수를 매개변수로 전달\n",
    "            - 매개변수: Dataset이 제공하는 원소를 받을 변수\n",
    "            - 반환값: Dataset이 제공한 원소가 특정조건을 만족하는지 여부(bool)\n",
    "3. **데이터 제공 설정 관련**\n",
    "    - **batch(size)**: 학습/평가 시 한번에 제공할 batch size 지정\n",
    "        - size: int, batch size 지정\n",
    "        - drop_remainder: bool, True일 경우 마지막 제공 시 남은 데이터수가 batch size보다 작으면 제공하지 않는다\n",
    "    - **shuffle(buffer 크기)**: dataset의 원소들의 순서를 섞는다\n",
    "        - buffer 크기: int, buffer 크기는 섞는 공간의 크기로 **데이터보다 크거나 같으면 `완전셔플`**, **적으면 일부만 가져와서 섞어** 완전셔플이 안된다\n",
    "        - 데이터 사이즈가 너무 커서 메모리가 부족할 경우 버퍼크기를 적게 준다\n",
    "        - 메모리가 충분하다면 데이터의 개수와 동일하게 준다\n",
    "    - **repeat(count)**: 전체 데이터를 한번 다 제공한 뒤 다시 데이터를 제공한다\n",
    "        - count: 몇번 제공할지 반복 횟수\n",
    "        - shuffle이 적용된 Dataset의 경우 다음 반복 제공마다 shuffle을 진행(에폭단위)\n",
    "- 각 tf.data 함수들은 각 기능에 맞게 데이터를 처리하는 Dataset 객체를 반환"
   ]
  },
  {
   "cell_type": "markdown",
   "metadata": {},
   "source": [
    "## Dataset 메소드\n",
    "- take(개수): 지정한 개수만큼의 데이터만 제공"
   ]
  },
  {
   "cell_type": "code",
   "execution_count": 1,
   "metadata": {},
   "outputs": [],
   "source": [
    "import tensorflow as tf\n",
    "import numpy as np"
   ]
  },
  {
   "cell_type": "markdown",
   "metadata": {},
   "source": [
    "> #### Tensor Type\n",
    "> - TensorFlow의 기본 data 자료구조\n",
    "> - numpy가 ndarray를 이용해 데이터를 관리하듯이 tensorflow를 Tensor를 이용해 데이터를 관리\n",
    ">   - Tensorflow의 모델이 학습, 평가할 때 사용하는 데이터셋(train dataset, validation dataset, test dataset)은 tf.Tensor 타입이어야 함\n",
    ">       - 학습 / 평가(model.fit(), model.evaluate()) 할 때 ndarray를 입력 데이터셋으로 넣어주면 내부적으로 tf.Tensor로 변형해 처리\n",
    ">       - tf.Tensor는 데이터셋을 ndarray로 가지고 있음"
   ]
  },
  {
   "cell_type": "code",
   "execution_count": 2,
   "metadata": {},
   "outputs": [
    {
     "data": {
      "text/plain": [
       "<tf.Tensor: shape=(3,), dtype=float32, numpy=array([1., 2., 3.], dtype=float32)>"
      ]
     },
     "execution_count": 2,
     "metadata": {},
     "output_type": "execute_result"
    }
   ],
   "source": [
    "t = tf.constant([1, 2, 3], dtype = 'float32')\n",
    "t"
   ]
  },
  {
   "cell_type": "code",
   "execution_count": 3,
   "metadata": {},
   "outputs": [
    {
     "data": {
      "text/plain": [
       "(TensorShape([3]), tf.float32)"
      ]
     },
     "execution_count": 3,
     "metadata": {},
     "output_type": "execute_result"
    }
   ],
   "source": [
    "t.shape, t.dtype"
   ]
  },
  {
   "cell_type": "code",
   "execution_count": 5,
   "metadata": {},
   "outputs": [
    {
     "data": {
      "text/plain": [
       "array([1., 2., 3.], dtype=float32)"
      ]
     },
     "execution_count": 5,
     "metadata": {},
     "output_type": "execute_result"
    }
   ],
   "source": [
    "a = t.numpy()\n",
    "a"
   ]
  },
  {
   "cell_type": "code",
   "execution_count": 6,
   "metadata": {},
   "outputs": [
    {
     "data": {
      "text/plain": [
       "<tf.Tensor: shape=(10,), dtype=int32, numpy=array([0, 1, 2, 3, 4, 5, 6, 7, 8, 9])>"
      ]
     },
     "execution_count": 6,
     "metadata": {},
     "output_type": "execute_result"
    }
   ],
   "source": [
    "# ndarray/list => Tensor\n",
    "tf.constant(np.arange(10))"
   ]
  },
  {
   "cell_type": "code",
   "execution_count": 7,
   "metadata": {},
   "outputs": [
    {
     "data": {
      "text/plain": [
       "<tf.Tensor: shape=(3,), dtype=float32, numpy=array([1., 2., 3.], dtype=float32)>"
      ]
     },
     "execution_count": 7,
     "metadata": {},
     "output_type": "execute_result"
    }
   ],
   "source": [
    "tf.convert_to_tensor(a)"
   ]
  },
  {
   "cell_type": "markdown",
   "metadata": {},
   "source": [
    "## Dataset 예제"
   ]
  },
  {
   "cell_type": "code",
   "execution_count": 8,
   "metadata": {},
   "outputs": [
    {
     "data": {
      "text/plain": [
       "array([0, 1, 2, 3, 4, 5, 6, 7, 8, 9])"
      ]
     },
     "execution_count": 8,
     "metadata": {},
     "output_type": "execute_result"
    }
   ],
   "source": [
    "# 0 ~ 9 정수 => input data\n",
    "raw_data1 = np.arange(10)\n",
    "raw_data1"
   ]
  },
  {
   "cell_type": "code",
   "execution_count": 9,
   "metadata": {},
   "outputs": [
    {
     "name": "stdout",
     "output_type": "stream",
     "text": [
      "<class 'tensorflow.python.data.ops.from_tensor_slices_op.TensorSliceDataset'>\n"
     ]
    }
   ],
   "source": [
    "# Dataset을 생성 -> 대상 raw dataset 메모리에 있는 ndarray일때\n",
    "dataset = tf.data.Dataset.from_tensor_slices(raw_data1)\n",
    "print(type(dataset))"
   ]
  },
  {
   "cell_type": "code",
   "execution_count": 10,
   "metadata": {},
   "outputs": [
    {
     "name": "stdout",
     "output_type": "stream",
     "text": [
      "tf.Tensor(0, shape=(), dtype=int32)\n",
      "tf.Tensor(1, shape=(), dtype=int32)\n",
      "tf.Tensor(2, shape=(), dtype=int32)\n",
      "tf.Tensor(3, shape=(), dtype=int32)\n",
      "tf.Tensor(4, shape=(), dtype=int32)\n",
      "tf.Tensor(5, shape=(), dtype=int32)\n",
      "tf.Tensor(6, shape=(), dtype=int32)\n",
      "tf.Tensor(7, shape=(), dtype=int32)\n",
      "tf.Tensor(8, shape=(), dtype=int32)\n",
      "tf.Tensor(9, shape=(), dtype=int32)\n"
     ]
    }
   ],
   "source": [
    "# dataset -> Iterable타입 => for in\n",
    "for data in dataset:\n",
    "    print(data)"
   ]
  },
  {
   "cell_type": "markdown",
   "metadata": {},
   "source": [
    "### x, y 묶어서 제공\n",
    "- 두개 이상의 데이터셋을 묶어서 제공할 경우 Tuple로 묶어준다\n",
    "    - Dataset이 feeding 할 때는 같은 index의 값들을 tuple로 묶어서 제공(zip()과 동일)"
   ]
  },
  {
   "cell_type": "code",
   "execution_count": 11,
   "metadata": {},
   "outputs": [
    {
     "name": "stdout",
     "output_type": "stream",
     "text": [
      "[0 1 2 3 4 5 6 7 8 9] 10\n",
      "[10 11 12 13 14 15 16 17 18 19] 10\n"
     ]
    }
   ],
   "source": [
    "raw_data2 = np.arange(10, 20)\n",
    "print(raw_data1, len(raw_data1))\n",
    "print(raw_data2, len(raw_data2))"
   ]
  },
  {
   "cell_type": "code",
   "execution_count": 13,
   "metadata": {},
   "outputs": [
    {
     "name": "stdout",
     "output_type": "stream",
     "text": [
      "tf.Tensor(0, shape=(), dtype=int32)=====tf.Tensor(10, shape=(), dtype=int32)\n",
      "tf.Tensor(1, shape=(), dtype=int32)=====tf.Tensor(11, shape=(), dtype=int32)\n",
      "tf.Tensor(2, shape=(), dtype=int32)=====tf.Tensor(12, shape=(), dtype=int32)\n",
      "tf.Tensor(3, shape=(), dtype=int32)=====tf.Tensor(13, shape=(), dtype=int32)\n",
      "tf.Tensor(4, shape=(), dtype=int32)=====tf.Tensor(14, shape=(), dtype=int32)\n",
      "tf.Tensor(5, shape=(), dtype=int32)=====tf.Tensor(15, shape=(), dtype=int32)\n",
      "tf.Tensor(6, shape=(), dtype=int32)=====tf.Tensor(16, shape=(), dtype=int32)\n",
      "tf.Tensor(7, shape=(), dtype=int32)=====tf.Tensor(17, shape=(), dtype=int32)\n",
      "tf.Tensor(8, shape=(), dtype=int32)=====tf.Tensor(18, shape=(), dtype=int32)\n",
      "tf.Tensor(9, shape=(), dtype=int32)=====tf.Tensor(19, shape=(), dtype=int32)\n"
     ]
    }
   ],
   "source": [
    "dataset2 = tf.data.Dataset.from_tensor_slices((raw_data1, raw_data2))\n",
    "for x, y in dataset2:\n",
    "    print(x, y, sep = '=====')"
   ]
  },
  {
   "cell_type": "markdown",
   "metadata": {},
   "source": [
    "### Shuffle\n",
    "- 데이터셋을 섞는다"
   ]
  },
  {
   "cell_type": "code",
   "execution_count": 17,
   "metadata": {},
   "outputs": [
    {
     "name": "stdout",
     "output_type": "stream",
     "text": [
      "<class 'tensorflow.python.data.ops.dataset_ops.ShuffleDataset'>\n"
     ]
    }
   ],
   "source": [
    "raw_data1 = np.arange(10)\n",
    "dataset = tf.data.Dataset.from_tensor_slices(raw_data1)\n",
    "dataset3 = dataset.shuffle(10)\n",
    "print(type(dataset3))"
   ]
  },
  {
   "cell_type": "code",
   "execution_count": 18,
   "metadata": {},
   "outputs": [
    {
     "name": "stdout",
     "output_type": "stream",
     "text": [
      "tf.Tensor(1, shape=(), dtype=int32)\n",
      "tf.Tensor(3, shape=(), dtype=int32)\n",
      "tf.Tensor(5, shape=(), dtype=int32)\n",
      "tf.Tensor(4, shape=(), dtype=int32)\n",
      "tf.Tensor(2, shape=(), dtype=int32)\n",
      "tf.Tensor(7, shape=(), dtype=int32)\n",
      "tf.Tensor(9, shape=(), dtype=int32)\n",
      "tf.Tensor(6, shape=(), dtype=int32)\n",
      "tf.Tensor(8, shape=(), dtype=int32)\n",
      "tf.Tensor(0, shape=(), dtype=int32)\n"
     ]
    }
   ],
   "source": [
    "for data in dataset3:\n",
    "    print(data)"
   ]
  },
  {
   "cell_type": "markdown",
   "metadata": {},
   "source": [
    "### Batch\n",
    "- drop_remainder: boolean(기본 - False)\n",
    "    - batch로 제공할 데이터의 개수가 설정한 batch_size보다 적으면 제공하지 않는다\n",
    "    - Train dataset을 만들 때 True로 설정하여 항상 일정한 batch size로 학습할 수 있도록 한다. drop 되는 데이터는 다른 epoch을 반복할 때 사용"
   ]
  },
  {
   "cell_type": "code",
   "execution_count": 19,
   "metadata": {},
   "outputs": [
    {
     "name": "stdout",
     "output_type": "stream",
     "text": [
      "<class 'tensorflow.python.data.ops.dataset_ops.BatchDataset'>\n",
      "tf.Tensor([0 1 2 3 4], shape=(5,), dtype=int32)\n",
      "tf.Tensor([5 6 7 8 9], shape=(5,), dtype=int32)\n"
     ]
    }
   ],
   "source": [
    "dataset4 = dataset.batch(5)\n",
    "print(type(dataset4))\n",
    "for data in dataset4:\n",
    "    print(data)"
   ]
  },
  {
   "cell_type": "code",
   "execution_count": 23,
   "metadata": {},
   "outputs": [
    {
     "name": "stdout",
     "output_type": "stream",
     "text": [
      "tf.Tensor([0 1 2], shape=(3,), dtype=int32)\n",
      "tf.Tensor([3 4 5], shape=(3,), dtype=int32)\n",
      "tf.Tensor([6 7 8], shape=(3,), dtype=int32)\n",
      "tf.Tensor([9], shape=(1,), dtype=int32)\n"
     ]
    }
   ],
   "source": [
    "# 읽어올 데이터의 개수가 batch_size보다 적으면 제공하지 않는다 => train dataset 생성할 때 설정\n",
    "dataset5 = dataset.batch(3)\n",
    "for data in dataset5:\n",
    "    print(data)"
   ]
  },
  {
   "cell_type": "markdown",
   "metadata": {},
   "source": [
    "### Repeat\n",
    "- 지정 횟수만큼 데이터를 반복해 제공"
   ]
  },
  {
   "cell_type": "code",
   "execution_count": 24,
   "metadata": {},
   "outputs": [
    {
     "name": "stdout",
     "output_type": "stream",
     "text": [
      "<class 'tensorflow.python.data.ops.dataset_ops.RepeatDataset'>\n",
      "tf.Tensor(0, shape=(), dtype=int32)\n",
      "tf.Tensor(1, shape=(), dtype=int32)\n",
      "tf.Tensor(2, shape=(), dtype=int32)\n",
      "tf.Tensor(3, shape=(), dtype=int32)\n",
      "tf.Tensor(4, shape=(), dtype=int32)\n",
      "tf.Tensor(5, shape=(), dtype=int32)\n",
      "tf.Tensor(6, shape=(), dtype=int32)\n",
      "tf.Tensor(7, shape=(), dtype=int32)\n",
      "tf.Tensor(8, shape=(), dtype=int32)\n",
      "tf.Tensor(9, shape=(), dtype=int32)\n",
      "tf.Tensor(0, shape=(), dtype=int32)\n",
      "tf.Tensor(1, shape=(), dtype=int32)\n",
      "tf.Tensor(2, shape=(), dtype=int32)\n",
      "tf.Tensor(3, shape=(), dtype=int32)\n",
      "tf.Tensor(4, shape=(), dtype=int32)\n",
      "tf.Tensor(5, shape=(), dtype=int32)\n",
      "tf.Tensor(6, shape=(), dtype=int32)\n",
      "tf.Tensor(7, shape=(), dtype=int32)\n",
      "tf.Tensor(8, shape=(), dtype=int32)\n",
      "tf.Tensor(9, shape=(), dtype=int32)\n",
      "tf.Tensor(0, shape=(), dtype=int32)\n",
      "tf.Tensor(1, shape=(), dtype=int32)\n",
      "tf.Tensor(2, shape=(), dtype=int32)\n",
      "tf.Tensor(3, shape=(), dtype=int32)\n",
      "tf.Tensor(4, shape=(), dtype=int32)\n",
      "tf.Tensor(5, shape=(), dtype=int32)\n",
      "tf.Tensor(6, shape=(), dtype=int32)\n",
      "tf.Tensor(7, shape=(), dtype=int32)\n",
      "tf.Tensor(8, shape=(), dtype=int32)\n",
      "tf.Tensor(9, shape=(), dtype=int32)\n",
      "tf.Tensor(0, shape=(), dtype=int32)\n",
      "tf.Tensor(1, shape=(), dtype=int32)\n",
      "tf.Tensor(2, shape=(), dtype=int32)\n",
      "tf.Tensor(3, shape=(), dtype=int32)\n",
      "tf.Tensor(4, shape=(), dtype=int32)\n",
      "tf.Tensor(5, shape=(), dtype=int32)\n",
      "tf.Tensor(6, shape=(), dtype=int32)\n",
      "tf.Tensor(7, shape=(), dtype=int32)\n",
      "tf.Tensor(8, shape=(), dtype=int32)\n",
      "tf.Tensor(9, shape=(), dtype=int32)\n",
      "tf.Tensor(0, shape=(), dtype=int32)\n",
      "tf.Tensor(1, shape=(), dtype=int32)\n",
      "tf.Tensor(2, shape=(), dtype=int32)\n",
      "tf.Tensor(3, shape=(), dtype=int32)\n",
      "tf.Tensor(4, shape=(), dtype=int32)\n",
      "tf.Tensor(5, shape=(), dtype=int32)\n",
      "tf.Tensor(6, shape=(), dtype=int32)\n",
      "tf.Tensor(7, shape=(), dtype=int32)\n",
      "tf.Tensor(8, shape=(), dtype=int32)\n",
      "tf.Tensor(9, shape=(), dtype=int32)\n"
     ]
    }
   ],
   "source": [
    "dataset6 = dataset.repeat(5)\n",
    "print(type(dataset6))\n",
    "for data in dataset6:\n",
    "    print(data)"
   ]
  },
  {
   "cell_type": "code",
   "execution_count": 25,
   "metadata": {},
   "outputs": [],
   "source": [
    "dataset7 = tf.data.Dataset.from_tensor_slices(raw_data1).shuffle(10).batch(3).repeat(3)"
   ]
  },
  {
   "cell_type": "code",
   "execution_count": 26,
   "metadata": {},
   "outputs": [
    {
     "name": "stdout",
     "output_type": "stream",
     "text": [
      "tf.Tensor([0 4 1], shape=(3,), dtype=int32)\n",
      "tf.Tensor([7 2 9], shape=(3,), dtype=int32)\n",
      "tf.Tensor([3 8 5], shape=(3,), dtype=int32)\n",
      "tf.Tensor([6], shape=(1,), dtype=int32)\n",
      "tf.Tensor([4 5 3], shape=(3,), dtype=int32)\n",
      "tf.Tensor([1 8 6], shape=(3,), dtype=int32)\n",
      "tf.Tensor([9 0 7], shape=(3,), dtype=int32)\n",
      "tf.Tensor([2], shape=(1,), dtype=int32)\n",
      "tf.Tensor([0 3 9], shape=(3,), dtype=int32)\n",
      "tf.Tensor([7 2 4], shape=(3,), dtype=int32)\n",
      "tf.Tensor([6 8 1], shape=(3,), dtype=int32)\n",
      "tf.Tensor([5], shape=(1,), dtype=int32)\n"
     ]
    }
   ],
   "source": [
    "for data in dataset7:\n",
    "    print(data)"
   ]
  },
  {
   "cell_type": "markdown",
   "metadata": {},
   "source": [
    "### Map"
   ]
  },
  {
   "cell_type": "code",
   "execution_count": 28,
   "metadata": {},
   "outputs": [
    {
     "name": "stdout",
     "output_type": "stream",
     "text": [
      "<class 'tensorflow.python.data.ops.dataset_ops.MapDataset'>\n",
      "tf.Tensor(0, shape=(), dtype=int32)\n",
      "tf.Tensor(2, shape=(), dtype=int32)\n",
      "tf.Tensor(4, shape=(), dtype=int32)\n",
      "tf.Tensor(6, shape=(), dtype=int32)\n",
      "tf.Tensor(8, shape=(), dtype=int32)\n",
      "tf.Tensor(10, shape=(), dtype=int32)\n",
      "tf.Tensor(12, shape=(), dtype=int32)\n",
      "tf.Tensor(14, shape=(), dtype=int32)\n",
      "tf.Tensor(16, shape=(), dtype=int32)\n",
      "tf.Tensor(18, shape=(), dtype=int32)\n"
     ]
    }
   ],
   "source": [
    "dataset8 = dataset.map(lambda x: x*2)\n",
    "print(type(dataset8))\n",
    "for data in dataset8:\n",
    "    print(data)"
   ]
  },
  {
   "cell_type": "code",
   "execution_count": 29,
   "metadata": {},
   "outputs": [
    {
     "name": "stdout",
     "output_type": "stream",
     "text": [
      "tf.Tensor(0, shape=(), dtype=int32) tf.Tensor(10, shape=(), dtype=int32)\n",
      "tf.Tensor(1, shape=(), dtype=int32) tf.Tensor(11, shape=(), dtype=int32)\n",
      "tf.Tensor(4, shape=(), dtype=int32) tf.Tensor(12, shape=(), dtype=int32)\n",
      "tf.Tensor(9, shape=(), dtype=int32) tf.Tensor(13, shape=(), dtype=int32)\n",
      "tf.Tensor(16, shape=(), dtype=int32) tf.Tensor(14, shape=(), dtype=int32)\n",
      "tf.Tensor(25, shape=(), dtype=int32) tf.Tensor(15, shape=(), dtype=int32)\n",
      "tf.Tensor(36, shape=(), dtype=int32) tf.Tensor(16, shape=(), dtype=int32)\n",
      "tf.Tensor(49, shape=(), dtype=int32) tf.Tensor(17, shape=(), dtype=int32)\n",
      "tf.Tensor(64, shape=(), dtype=int32) tf.Tensor(18, shape=(), dtype=int32)\n",
      "tf.Tensor(81, shape=(), dtype=int32) tf.Tensor(19, shape=(), dtype=int32)\n"
     ]
    }
   ],
   "source": [
    "# 두개의 dataset(x, y)을 묶는 Dataset 객체\n",
    "def map_func(x, y):\n",
    "    return x**2, y\n",
    "\n",
    "dataset9 = dataset2.map(map_func)\n",
    "for x, y in dataset9:\n",
    "    print(x, y)"
   ]
  },
  {
   "cell_type": "markdown",
   "metadata": {},
   "source": [
    "### Filter"
   ]
  },
  {
   "cell_type": "code",
   "execution_count": 30,
   "metadata": {},
   "outputs": [
    {
     "name": "stdout",
     "output_type": "stream",
     "text": [
      "<class 'tensorflow.python.data.ops.filter_op.FilterDataset'>\n",
      "tf.Tensor(0, shape=(), dtype=int32)\n",
      "tf.Tensor(2, shape=(), dtype=int32)\n",
      "tf.Tensor(4, shape=(), dtype=int32)\n",
      "tf.Tensor(6, shape=(), dtype=int32)\n",
      "tf.Tensor(8, shape=(), dtype=int32)\n"
     ]
    }
   ],
   "source": [
    "def filter_func(x):\n",
    "    return x % 2 == 0\n",
    "\n",
    "dataset11 = dataset.filter(filter_func)\n",
    "print(type(dataset11))\n",
    "for data in dataset11:\n",
    "    print(data)"
   ]
  },
  {
   "cell_type": "markdown",
   "metadata": {},
   "source": [
    "# 문제 유형별 MLP 네트워크\n",
    "- MLP(Multi Layer Perceptron), ANN(Artificial Neural Network), DNN(Deep Neural Network)\n",
    "    - Fully Connected Layer로 구성된 네트워크"
   ]
  },
  {
   "cell_type": "markdown",
   "metadata": {},
   "source": [
    "## Regression(회귀)\n",
    "### Boston Housing Dataset\n",
    "보스턴 주택가격 dataset은 다음과 같은 속성을 바탕으로 해당 타운 주택 가격의 중앙값을 예측하는 문제.\n",
    "- CRIM: 범죄율\n",
    "- ZN: 25,000 평방피트당 주거지역 비율\n",
    "- INDUS: 비소매 상업지구 비율\n",
    "- CHAS: 찰스강에 인접해 있는지 여부(인접:1, 아니면:0)\n",
    "- NOX: 일산화질소 농도(단위: 0.1ppm)\n",
    "- RM: 주택당 방의 수\n",
    "- AGE: 1940년 이전에 건설된 주택의 비율\n",
    "- DIS: 5개의 보스턴 직업고용센터와의 거리(가중 평균)\n",
    "- RAD: 고속도로 접근성\n",
    "- TAX: 재산세율\n",
    "- PTRATIO: 학생/교사 비율\n",
    "- B: 흑인 비율\n",
    "- LSTAT: 하위 계층 비율\n",
    "- **Target**\n",
    "    - MEDV: 타운의 주택가격 중앙값(단위: 1,000달러)"
   ]
  },
  {
   "cell_type": "code",
   "execution_count": 31,
   "metadata": {},
   "outputs": [],
   "source": [
    "import tensorflow as tf\n",
    "from tensorflow import keras\n",
    "from tensorflow.keras import layers\n",
    "\n",
    "import numpy as np\n",
    "import matplotlib.pyplot as plt\n",
    "\n",
    "from sklearn.preprocessing import StandardScaler\n",
    "\n",
    "import random"
   ]
  },
  {
   "cell_type": "code",
   "execution_count": 32,
   "metadata": {},
   "outputs": [],
   "source": [
    "# random seed값 설정\n",
    "tf.random.set_seed(0)\n",
    "np.random.seed(0)\n",
    "random.seed(0)"
   ]
  },
  {
   "cell_type": "markdown",
   "metadata": {},
   "source": [
    "#### 데이터 로딩"
   ]
  },
  {
   "cell_type": "code",
   "execution_count": 33,
   "metadata": {},
   "outputs": [
    {
     "name": "stdout",
     "output_type": "stream",
     "text": [
      "(404, 13) (404,)\n",
      "(102, 13) (102,)\n"
     ]
    }
   ],
   "source": [
    "(train_X, y_train), (test_X, y_test) = keras.datasets.boston_housing.load_data()\n",
    "print(train_X.shape, y_train.shape)\n",
    "print(test_X.shape, y_test.shape)"
   ]
  },
  {
   "cell_type": "code",
   "execution_count": 34,
   "metadata": {},
   "outputs": [
    {
     "name": "stdout",
     "output_type": "stream",
     "text": [
      "[  1.23247   0.        8.14      0.        0.538     6.142    91.7\n",
      "   3.9769    4.      307.       21.      396.9      18.72   ]\n",
      "15.2\n"
     ]
    }
   ],
   "source": [
    "print(train_X[0])\n",
    "print(y_train[0])"
   ]
  },
  {
   "cell_type": "markdown",
   "metadata": {},
   "source": [
    "#### 하이퍼파라미터, 변수 정의"
   ]
  },
  {
   "cell_type": "code",
   "execution_count": 35,
   "metadata": {},
   "outputs": [],
   "source": [
    "LEARNING_RATE = 0.001\n",
    "N_EPOCH = 200\n",
    "N_BATCH = 400\n",
    "N_BATCH_VAL = 50"
   ]
  },
  {
   "cell_type": "markdown",
   "metadata": {},
   "source": [
    "#### X, y 전처리\n",
    "- MLP는 선형모델을 기반으로 하므로 Feature scaling을 해준다"
   ]
  },
  {
   "cell_type": "code",
   "execution_count": 37,
   "metadata": {},
   "outputs": [],
   "source": [
    "scaler = StandardScaler()\n",
    "X_train = scaler.fit_transform(train_X)\n",
    "X_test = scaler.transform(test_X)"
   ]
  },
  {
   "cell_type": "code",
   "execution_count": 38,
   "metadata": {},
   "outputs": [
    {
     "data": {
      "text/plain": [
       "(2.6016254395785847e-15, 0.9999999999999993)"
      ]
     },
     "execution_count": 38,
     "metadata": {},
     "output_type": "execute_result"
    }
   ],
   "source": [
    "X_train.mean(), X_train.std()"
   ]
  },
  {
   "cell_type": "markdown",
   "metadata": {},
   "source": [
    "#### Dataset 생성\n",
    "- validation/test set pipe line은 동일하게 구성\n",
    "- train dataset은 shuffle을 추가, batch에 drop_remainder = True 설정\n",
    "- map, filter를 pipe line에 추가할 경우 train/validation/test set에 모두 동일하게 적용"
   ]
  },
  {
   "cell_type": "code",
   "execution_count": 39,
   "metadata": {},
   "outputs": [],
   "source": [
    "# test/validation set은 shuffle안함(평균결과로 평가), batch => drop_remainder = False(기본) 설정\n",
    "train_dataset = tf.data.Dataset.from_tensor_slices((X_train, y_train)).shuffle(X_train.shape[0]).batch(N_BATCH, drop_remainder = True)\n",
    "test_dataset = tf.data.Dataset.from_tensor_slices((X_test, y_test)).batch(N_BATCH_VAL)\n"
   ]
  },
  {
   "cell_type": "code",
   "execution_count": 40,
   "metadata": {},
   "outputs": [
    {
     "name": "stdout",
     "output_type": "stream",
     "text": [
      "에폭당 step수: 1\n",
      "에폭당 step수: 3\n"
     ]
    }
   ],
   "source": [
    "print('에폭당 step수:', len(train_dataset))\n",
    "print('에폭당 step수:', len(test_dataset))"
   ]
  },
  {
   "cell_type": "markdown",
   "metadata": {},
   "source": [
    "#### 모델 구현\n",
    "1. 모델 객체 생성 - Sequential\n",
    "2. 모델에 Layer들 추가\n",
    "    - Input Layer 추가\n",
    "        - 입력 데이터의 shape을 지정\n",
    "        1. Input Layer 객체를 생성해 추가\n",
    "        2. 첫번째 Hidden Layer에 input_shape 매개변수에 shape을 지정하여 추가\n",
    "    - Hidden Layer들 추가\n",
    "        - Layer의 개수와 Layer의 Unit의 개수는 튜닝 대상으로 성능에 영향을 줌\n",
    "        - 활성함수는 ReLU를 사용\n",
    "        - Layer의 개수와 Unit 개수가 많을수록 복잡한 모델, 적을수록 단순한 모델\n",
    "    - Output Layer 추가\n",
    "        - 풀려는 문제에 따라 unit개수와 활성함수를 지정"
   ]
  },
  {
   "cell_type": "code",
   "execution_count": 41,
   "metadata": {},
   "outputs": [],
   "source": [
    "def get_model_boston(lr = 0.01):\n",
    "    model = keras.Sequential()\n",
    "    model.add(layers.Dense(units=32, activation='relu', input_shape=(13, )))\n",
    "    model.add(layers.Dense(units=16, activation='relu'))\n",
    "    model.add(layers.Dense(units=8, activation='relu'))\n",
    "    model.add(layers.Dense(units=1))\n",
    "    \n",
    "    model.compile(optimizer=keras.optimizers.Adam(learning_rate=lr), loss='mse')\n",
    "    return model"
   ]
  },
  {
   "cell_type": "code",
   "execution_count": 42,
   "metadata": {},
   "outputs": [
    {
     "name": "stdout",
     "output_type": "stream",
     "text": [
      "Model: \"sequential\"\n",
      "_________________________________________________________________\n",
      " Layer (type)                Output Shape              Param #   \n",
      "=================================================================\n",
      " dense (Dense)               (None, 32)                448       \n",
      "                                                                 \n",
      " dense_1 (Dense)             (None, 16)                528       \n",
      "                                                                 \n",
      " dense_2 (Dense)             (None, 8)                 136       \n",
      "                                                                 \n",
      " dense_3 (Dense)             (None, 1)                 9         \n",
      "                                                                 \n",
      "=================================================================\n",
      "Total params: 1,121\n",
      "Trainable params: 1,121\n",
      "Non-trainable params: 0\n",
      "_________________________________________________________________\n"
     ]
    }
   ],
   "source": [
    "model_boston = get_model_boston()\n",
    "model_boston.summary()"
   ]
  },
  {
   "cell_type": "markdown",
   "metadata": {},
   "source": [
    "- 유닛당 파라미터(weight, bias) 개수\n",
    "    - 입력 feature개수(weight 수) + 1 bias\n",
    "\n",
    "- 첫번째 layer의 파라미터 수\n",
    "    - 입력 feature: 13(input_shape), unit: 32\n",
    "        - (13 + 1) * 32 = 448"
   ]
  },
  {
   "cell_type": "code",
   "execution_count": 43,
   "metadata": {},
   "outputs": [
    {
     "data": {
      "image/png": "[encoded data removed]",
      "text/plain": [
       "<IPython.core.display.Image object>"
      ]
     },
     "execution_count": 43,
     "metadata": {},
     "output_type": "execute_result"
    }
   ],
   "source": [
    "keras.utils.plot_model(model_boston, show_shapes = True)"
   ]
  },
  {
   "cell_type": "markdown",
   "metadata": {},
   "source": [
    "#### 학습(Train)"
   ]
  },
  {
   "cell_type": "code",
   "execution_count": 44,
   "metadata": {},
   "outputs": [
    {
     "name": "stdout",
     "output_type": "stream",
     "text": [
      "Epoch 1/200\n",
      "1/1 [==============================] - 4s 4s/step - loss: 592.7670 - val_loss: 610.8075\n",
      "Epoch 2/200\n",
      "1/1 [==============================] - 0s 79ms/step - loss: 582.2697 - val_loss: 603.5632\n",
      "Epoch 3/200\n",
      "1/1 [==============================] - 0s 48ms/step - loss: 577.4246 - val_loss: 595.2667\n",
      "Epoch 4/200\n",
      "1/1 [==============================] - 0s 59ms/step - loss: 567.7039 - val_loss: 585.6584\n",
      "Epoch 5/200\n",
      "1/1 [==============================] - 0s 42ms/step - loss: 556.3108 - val_loss: 574.2402\n",
      "Epoch 6/200\n",
      "1/1 [==============================] - 0s 39ms/step - loss: 545.1740 - val_loss: 560.7397\n",
      "Epoch 7/200\n",
      "1/1 [==============================] - 0s 38ms/step - loss: 533.4029 - val_loss: 544.5043\n",
      "Epoch 8/200\n",
      "1/1 [==============================] - 0s 41ms/step - loss: 517.2045 - val_loss: 525.4392\n",
      "Epoch 9/200\n",
      "1/1 [==============================] - 0s 49ms/step - loss: 499.3381 - val_loss: 502.7787\n",
      "Epoch 10/200\n",
      "1/1 [==============================] - 0s 38ms/step - loss: 470.5678 - val_loss: 476.6186\n",
      "Epoch 11/200\n",
      "1/1 [==============================] - 0s 53ms/step - loss: 451.7557 - val_loss: 446.7704\n",
      "Epoch 12/200\n",
      "1/1 [==============================] - 0s 36ms/step - loss: 423.0830 - val_loss: 413.0858\n",
      "Epoch 13/200\n",
      "1/1 [==============================] - 0s 44ms/step - loss: 386.1939 - val_loss: 375.9588\n",
      "Epoch 14/200\n",
      "1/1 [==============================] - 0s 36ms/step - loss: 349.0824 - val_loss: 335.8079\n",
      "Epoch 15/200\n",
      "1/1 [==============================] - 0s 43ms/step - loss: 314.2985 - val_loss: 293.4211\n",
      "Epoch 16/200\n",
      "1/1 [==============================] - 0s 61ms/step - loss: 274.4138 - val_loss: 250.1532\n",
      "Epoch 17/200\n",
      "1/1 [==============================] - 0s 34ms/step - loss: 234.3982 - val_loss: 208.1779\n",
      "Epoch 18/200\n",
      "1/1 [==============================] - 0s 42ms/step - loss: 195.1541 - val_loss: 170.2752\n",
      "Epoch 19/200\n",
      "1/1 [==============================] - 0s 40ms/step - loss: 160.7437 - val_loss: 140.0415\n",
      "Epoch 20/200\n",
      "1/1 [==============================] - 0s 40ms/step - loss: 134.2572 - val_loss: 120.9058\n",
      "Epoch 21/200\n",
      "1/1 [==============================] - 0s 41ms/step - loss: 119.6043 - val_loss: 114.0960\n",
      "Epoch 22/200\n",
      "1/1 [==============================] - 0s 62ms/step - loss: 113.5209 - val_loss: 117.7955\n",
      "Epoch 23/200\n",
      "1/1 [==============================] - 0s 40ms/step - loss: 120.8762 - val_loss: 125.2736\n",
      "Epoch 24/200\n",
      "1/1 [==============================] - 0s 40ms/step - loss: 128.3553 - val_loss: 128.2520\n",
      "Epoch 25/200\n",
      "1/1 [==============================] - 0s 38ms/step - loss: 132.8861 - val_loss: 122.8178\n",
      "Epoch 26/200\n",
      "1/1 [==============================] - 0s 44ms/step - loss: 126.7700 - val_loss: 110.6514\n",
      "Epoch 27/200\n",
      "1/1 [==============================] - 0s 50ms/step - loss: 111.5027 - val_loss: 95.7512\n",
      "Epoch 28/200\n",
      "1/1 [==============================] - 0s 39ms/step - loss: 94.7011 - val_loss: 81.6891\n",
      "Epoch 29/200\n",
      "1/1 [==============================] - 0s 33ms/step - loss: 79.8882 - val_loss: 70.6710\n",
      "Epoch 30/200\n",
      "1/1 [==============================] - 0s 39ms/step - loss: 67.4399 - val_loss: 63.4739\n",
      "Epoch 31/200\n",
      "1/1 [==============================] - 0s 39ms/step - loss: 57.1146 - val_loss: 59.6972\n",
      "Epoch 32/200\n",
      "1/1 [==============================] - 0s 75ms/step - loss: 52.3763 - val_loss: 58.3385\n",
      "Epoch 33/200\n",
      "1/1 [==============================] - 0s 46ms/step - loss: 51.2705 - val_loss: 58.0800\n",
      "Epoch 34/200\n",
      "1/1 [==============================] - 0s 39ms/step - loss: 49.9598 - val_loss: 57.8960\n",
      "Epoch 35/200\n",
      "1/1 [==============================] - 0s 37ms/step - loss: 47.7424 - val_loss: 57.2004\n",
      "Epoch 36/200\n",
      "1/1 [==============================] - 0s 39ms/step - loss: 47.1334 - val_loss: 55.6610\n",
      "Epoch 37/200\n",
      "1/1 [==============================] - 0s 36ms/step - loss: 44.7410 - val_loss: 53.3164\n",
      "Epoch 38/200\n",
      "1/1 [==============================] - 0s 37ms/step - loss: 42.0603 - val_loss: 50.5712\n",
      "Epoch 39/200\n",
      "1/1 [==============================] - 0s 41ms/step - loss: 38.4404 - val_loss: 47.9766\n",
      "Epoch 40/200\n",
      "1/1 [==============================] - 0s 40ms/step - loss: 35.3302 - val_loss: 45.9441\n",
      "Epoch 41/200\n",
      "1/1 [==============================] - 0s 38ms/step - loss: 32.4964 - val_loss: 44.8272\n",
      "Epoch 42/200\n",
      "1/1 [==============================] - 0s 32ms/step - loss: 30.6165 - val_loss: 44.2428\n",
      "Epoch 43/200\n",
      "1/1 [==============================] - 0s 39ms/step - loss: 30.2248 - val_loss: 43.6929\n",
      "Epoch 44/200\n",
      "1/1 [==============================] - 0s 28ms/step - loss: 29.9376 - val_loss: 42.7499\n",
      "Epoch 45/200\n",
      "1/1 [==============================] - 0s 42ms/step - loss: 30.1859 - val_loss: 41.1555\n",
      "Epoch 46/200\n",
      "1/1 [==============================] - 0s 57ms/step - loss: 29.7408 - val_loss: 39.1716\n",
      "Epoch 47/200\n",
      "1/1 [==============================] - 0s 46ms/step - loss: 29.6390 - val_loss: 37.2324\n",
      "Epoch 48/200\n",
      "1/1 [==============================] - 0s 40ms/step - loss: 28.2823 - val_loss: 35.1036\n",
      "Epoch 49/200\n",
      "1/1 [==============================] - 0s 41ms/step - loss: 27.9915 - val_loss: 32.9416\n",
      "Epoch 50/200\n",
      "1/1 [==============================] - 0s 32ms/step - loss: 26.5996 - val_loss: 31.0631\n",
      "Epoch 51/200\n",
      "1/1 [==============================] - 0s 86ms/step - loss: 24.9634 - val_loss: 29.6361\n",
      "Epoch 52/200\n",
      "1/1 [==============================] - 0s 65ms/step - loss: 24.6992 - val_loss: 28.7360\n",
      "Epoch 53/200\n",
      "1/1 [==============================] - 0s 39ms/step - loss: 24.0707 - val_loss: 28.3091\n",
      "Epoch 54/200\n",
      "1/1 [==============================] - 0s 33ms/step - loss: 23.7103 - val_loss: 28.1771\n",
      "Epoch 55/200\n",
      "1/1 [==============================] - 0s 31ms/step - loss: 23.3165 - val_loss: 28.1659\n",
      "Epoch 56/200\n",
      "1/1 [==============================] - 0s 27ms/step - loss: 22.5348 - val_loss: 28.1280\n",
      "Epoch 57/200\n",
      "1/1 [==============================] - 0s 33ms/step - loss: 22.5461 - val_loss: 28.0207\n",
      "Epoch 58/200\n",
      "1/1 [==============================] - 0s 258ms/step - loss: 22.0996 - val_loss: 27.8630\n",
      "Epoch 59/200\n",
      "1/1 [==============================] - 0s 361ms/step - loss: 21.0464 - val_loss: 27.7229\n",
      "Epoch 60/200\n",
      "1/1 [==============================] - 0s 350ms/step - loss: 20.6188 - val_loss: 27.6654\n",
      "Epoch 61/200\n",
      "1/1 [==============================] - 0s 376ms/step - loss: 19.8947 - val_loss: 27.7443\n",
      "Epoch 62/200\n",
      "1/1 [==============================] - 1s 534ms/step - loss: 19.2483 - val_loss: 27.9730\n",
      "Epoch 63/200\n",
      "1/1 [==============================] - 0s 27ms/step - loss: 17.2882 - val_loss: 28.2419\n",
      "Epoch 64/200\n",
      "1/1 [==============================] - 0s 24ms/step - loss: 18.4336 - val_loss: 28.5008\n",
      "Epoch 65/200\n",
      "1/1 [==============================] - 0s 29ms/step - loss: 17.9029 - val_loss: 28.6708\n",
      "Epoch 66/200\n",
      "1/1 [==============================] - 0s 27ms/step - loss: 17.8134 - val_loss: 28.7094\n",
      "Epoch 67/200\n",
      "1/1 [==============================] - 0s 29ms/step - loss: 17.4553 - val_loss: 28.6060\n",
      "Epoch 68/200\n",
      "1/1 [==============================] - 0s 36ms/step - loss: 17.0310 - val_loss: 28.3871\n",
      "Epoch 69/200\n",
      "1/1 [==============================] - 0s 49ms/step - loss: 16.6988 - val_loss: 28.1051\n",
      "Epoch 70/200\n",
      "1/1 [==============================] - 0s 29ms/step - loss: 16.2244 - val_loss: 27.8132\n",
      "Epoch 71/200\n",
      "1/1 [==============================] - 0s 36ms/step - loss: 15.8428 - val_loss: 27.5701\n",
      "Epoch 72/200\n",
      "1/1 [==============================] - 0s 32ms/step - loss: 15.6006 - val_loss: 27.3901\n",
      "Epoch 73/200\n",
      "1/1 [==============================] - 0s 110ms/step - loss: 15.3813 - val_loss: 27.2435\n",
      "Epoch 74/200\n",
      "1/1 [==============================] - 0s 133ms/step - loss: 15.2131 - val_loss: 27.1210\n",
      "Epoch 75/200\n",
      "1/1 [==============================] - 0s 55ms/step - loss: 14.9976 - val_loss: 27.0128\n",
      "Epoch 76/200\n",
      "1/1 [==============================] - 0s 57ms/step - loss: 14.8360 - val_loss: 26.9142\n",
      "Epoch 77/200\n",
      "1/1 [==============================] - 0s 32ms/step - loss: 14.5577 - val_loss: 26.8135\n",
      "Epoch 78/200\n",
      "1/1 [==============================] - 0s 54ms/step - loss: 14.2375 - val_loss: 26.7112\n",
      "Epoch 79/200\n",
      "1/1 [==============================] - 0s 31ms/step - loss: 13.8533 - val_loss: 26.6059\n",
      "Epoch 80/200\n",
      "1/1 [==============================] - 0s 33ms/step - loss: 13.7591 - val_loss: 26.4746\n",
      "Epoch 81/200\n",
      "1/1 [==============================] - 0s 32ms/step - loss: 13.5830 - val_loss: 26.2940\n",
      "Epoch 82/200\n",
      "1/1 [==============================] - 0s 33ms/step - loss: 13.3605 - val_loss: 26.0402\n",
      "Epoch 83/200\n",
      "1/1 [==============================] - 0s 31ms/step - loss: 13.2116 - val_loss: 25.6859\n",
      "Epoch 84/200\n",
      "1/1 [==============================] - 0s 31ms/step - loss: 13.1171 - val_loss: 25.2557\n",
      "Epoch 85/200\n",
      "1/1 [==============================] - 0s 70ms/step - loss: 12.9194 - val_loss: 24.7907\n",
      "Epoch 86/200\n",
      "1/1 [==============================] - 0s 76ms/step - loss: 12.6860 - val_loss: 24.3330\n",
      "Epoch 87/200\n",
      "1/1 [==============================] - 0s 42ms/step - loss: 12.6203 - val_loss: 23.9206\n",
      "Epoch 88/200\n",
      "1/1 [==============================] - 0s 46ms/step - loss: 12.4312 - val_loss: 23.5831\n",
      "Epoch 89/200\n",
      "1/1 [==============================] - 0s 43ms/step - loss: 12.3394 - val_loss: 23.3513\n",
      "Epoch 90/200\n",
      "1/1 [==============================] - 0s 40ms/step - loss: 12.2107 - val_loss: 23.2236\n",
      "Epoch 91/200\n",
      "1/1 [==============================] - 0s 47ms/step - loss: 12.0031 - val_loss: 23.2020\n",
      "Epoch 92/200\n",
      "1/1 [==============================] - 0s 43ms/step - loss: 11.9979 - val_loss: 23.2684\n",
      "Epoch 93/200\n",
      "1/1 [==============================] - 0s 72ms/step - loss: 11.9234 - val_loss: 23.3991\n",
      "Epoch 94/200\n",
      "1/1 [==============================] - 0s 200ms/step - loss: 11.7968 - val_loss: 23.5765\n",
      "Epoch 95/200\n",
      "1/1 [==============================] - 0s 222ms/step - loss: 11.6377 - val_loss: 23.7748\n",
      "Epoch 96/200\n",
      "1/1 [==============================] - 0s 62ms/step - loss: 11.5008 - val_loss: 23.9642\n",
      "Epoch 97/200\n",
      "1/1 [==============================] - 0s 61ms/step - loss: 11.4579 - val_loss: 24.1255\n",
      "Epoch 98/200\n",
      "1/1 [==============================] - 0s 43ms/step - loss: 11.3828 - val_loss: 24.2343\n",
      "Epoch 99/200\n",
      "1/1 [==============================] - 0s 40ms/step - loss: 11.2954 - val_loss: 24.2871\n",
      "Epoch 100/200\n",
      "1/1 [==============================] - 0s 40ms/step - loss: 11.1268 - val_loss: 24.2955\n",
      "Epoch 101/200\n",
      "1/1 [==============================] - 0s 36ms/step - loss: 10.9939 - val_loss: 24.2689\n",
      "Epoch 102/200\n",
      "1/1 [==============================] - 0s 35ms/step - loss: 11.0203 - val_loss: 24.2080\n",
      "Epoch 103/200\n",
      "1/1 [==============================] - 0s 37ms/step - loss: 10.8972 - val_loss: 24.1251\n",
      "Epoch 104/200\n",
      "1/1 [==============================] - 0s 40ms/step - loss: 10.3305 - val_loss: 23.9484\n",
      "Epoch 105/200\n",
      "1/1 [==============================] - 0s 34ms/step - loss: 10.7453 - val_loss: 23.8020\n",
      "Epoch 106/200\n",
      "1/1 [==============================] - 0s 37ms/step - loss: 10.6895 - val_loss: 23.6949\n",
      "Epoch 107/200\n",
      "1/1 [==============================] - 0s 34ms/step - loss: 10.6237 - val_loss: 23.6424\n",
      "Epoch 108/200\n",
      "1/1 [==============================] - 0s 36ms/step - loss: 10.4823 - val_loss: 23.6186\n",
      "Epoch 109/200\n",
      "1/1 [==============================] - 0s 37ms/step - loss: 10.4772 - val_loss: 23.6228\n",
      "Epoch 110/200\n",
      "1/1 [==============================] - 0s 30ms/step - loss: 10.1385 - val_loss: 23.6467\n",
      "Epoch 111/200\n",
      "1/1 [==============================] - 0s 37ms/step - loss: 10.3007 - val_loss: 23.6778\n",
      "Epoch 112/200\n",
      "1/1 [==============================] - 0s 33ms/step - loss: 10.0965 - val_loss: 23.6989\n",
      "Epoch 113/200\n",
      "1/1 [==============================] - 0s 31ms/step - loss: 10.0996 - val_loss: 23.6904\n",
      "Epoch 114/200\n",
      "1/1 [==============================] - 0s 34ms/step - loss: 10.0269 - val_loss: 23.6441\n",
      "Epoch 115/200\n",
      "1/1 [==============================] - 0s 33ms/step - loss: 10.0901 - val_loss: 23.5673\n",
      "Epoch 116/200\n",
      "1/1 [==============================] - 0s 33ms/step - loss: 10.0195 - val_loss: 23.4751\n",
      "Epoch 117/200\n",
      "1/1 [==============================] - 0s 32ms/step - loss: 9.3478 - val_loss: 23.2647\n",
      "Epoch 118/200\n",
      "1/1 [==============================] - 0s 34ms/step - loss: 9.8379 - val_loss: 23.0675\n",
      "Epoch 119/200\n",
      "1/1 [==============================] - 0s 30ms/step - loss: 9.8064 - val_loss: 22.9101\n",
      "Epoch 120/200\n",
      "1/1 [==============================] - 0s 32ms/step - loss: 9.7950 - val_loss: 22.8051\n",
      "Epoch 121/200\n",
      "1/1 [==============================] - 0s 30ms/step - loss: 9.6409 - val_loss: 22.7510\n",
      "Epoch 122/200\n",
      "1/1 [==============================] - 0s 30ms/step - loss: 9.6207 - val_loss: 22.7455\n",
      "Epoch 123/200\n",
      "1/1 [==============================] - 0s 37ms/step - loss: 9.4884 - val_loss: 22.7956\n",
      "Epoch 124/200\n",
      "1/1 [==============================] - 0s 33ms/step - loss: 9.1736 - val_loss: 22.8469\n",
      "Epoch 125/200\n",
      "1/1 [==============================] - 0s 40ms/step - loss: 9.4080 - val_loss: 22.9236\n",
      "Epoch 126/200\n",
      "1/1 [==============================] - 0s 31ms/step - loss: 9.4760 - val_loss: 23.0068\n",
      "Epoch 127/200\n",
      "1/1 [==============================] - 0s 34ms/step - loss: 9.2917 - val_loss: 23.0848\n",
      "Epoch 128/200\n",
      "1/1 [==============================] - 0s 33ms/step - loss: 9.3718 - val_loss: 23.1376\n",
      "Epoch 129/200\n",
      "1/1 [==============================] - 0s 29ms/step - loss: 9.1058 - val_loss: 23.1608\n",
      "Epoch 130/200\n",
      "1/1 [==============================] - 0s 31ms/step - loss: 9.2129 - val_loss: 23.1482\n",
      "Epoch 131/200\n",
      "1/1 [==============================] - 0s 36ms/step - loss: 9.2090 - val_loss: 23.1012\n",
      "Epoch 132/200\n",
      "1/1 [==============================] - 0s 32ms/step - loss: 9.1705 - val_loss: 23.0292\n",
      "Epoch 133/200\n",
      "1/1 [==============================] - 0s 31ms/step - loss: 9.1265 - val_loss: 22.9495\n",
      "Epoch 134/200\n",
      "1/1 [==============================] - 0s 39ms/step - loss: 8.9319 - val_loss: 22.8864\n",
      "Epoch 135/200\n",
      "1/1 [==============================] - 0s 34ms/step - loss: 8.9257 - val_loss: 22.8461\n",
      "Epoch 136/200\n",
      "1/1 [==============================] - 0s 34ms/step - loss: 8.9945 - val_loss: 22.8073\n",
      "Epoch 137/200\n",
      "1/1 [==============================] - 0s 32ms/step - loss: 8.8380 - val_loss: 22.7849\n",
      "Epoch 138/200\n",
      "1/1 [==============================] - 0s 32ms/step - loss: 8.9241 - val_loss: 22.7496\n",
      "Epoch 139/200\n",
      "1/1 [==============================] - 0s 30ms/step - loss: 8.8899 - val_loss: 22.7010\n",
      "Epoch 140/200\n",
      "1/1 [==============================] - 0s 32ms/step - loss: 8.8287 - val_loss: 22.6448\n",
      "Epoch 141/200\n",
      "1/1 [==============================] - 0s 32ms/step - loss: 8.6684 - val_loss: 22.5649\n",
      "Epoch 142/200\n",
      "1/1 [==============================] - 0s 32ms/step - loss: 8.7383 - val_loss: 22.5051\n",
      "Epoch 143/200\n",
      "1/1 [==============================] - 0s 32ms/step - loss: 8.4723 - val_loss: 22.4594\n",
      "Epoch 144/200\n",
      "1/1 [==============================] - 0s 35ms/step - loss: 7.6756 - val_loss: 22.3626\n",
      "Epoch 145/200\n",
      "1/1 [==============================] - 0s 30ms/step - loss: 8.6455 - val_loss: 22.3235\n",
      "Epoch 146/200\n",
      "1/1 [==============================] - 0s 30ms/step - loss: 8.6343 - val_loss: 22.3253\n",
      "Epoch 147/200\n",
      "1/1 [==============================] - 0s 34ms/step - loss: 8.5910 - val_loss: 22.3576\n",
      "Epoch 148/200\n",
      "1/1 [==============================] - 0s 29ms/step - loss: 8.5284 - val_loss: 22.4119\n",
      "Epoch 149/200\n",
      "1/1 [==============================] - 0s 31ms/step - loss: 8.4597 - val_loss: 22.4834\n",
      "Epoch 150/200\n",
      "1/1 [==============================] - 0s 31ms/step - loss: 8.5041 - val_loss: 22.5310\n",
      "Epoch 151/200\n",
      "1/1 [==============================] - 0s 31ms/step - loss: 8.4403 - val_loss: 22.5388\n",
      "Epoch 152/200\n",
      "1/1 [==============================] - 0s 32ms/step - loss: 8.4247 - val_loss: 22.5137\n",
      "Epoch 153/200\n",
      "1/1 [==============================] - 0s 32ms/step - loss: 8.1173 - val_loss: 22.4595\n",
      "Epoch 154/200\n",
      "1/1 [==============================] - 0s 32ms/step - loss: 8.1701 - val_loss: 22.3518\n",
      "Epoch 155/200\n",
      "1/1 [==============================] - 0s 31ms/step - loss: 8.2842 - val_loss: 22.2443\n",
      "Epoch 156/200\n",
      "1/1 [==============================] - 0s 52ms/step - loss: 8.2633 - val_loss: 22.1449\n",
      "Epoch 157/200\n",
      "1/1 [==============================] - 0s 43ms/step - loss: 8.2816 - val_loss: 22.0849\n",
      "Epoch 158/200\n",
      "1/1 [==============================] - 0s 29ms/step - loss: 8.2238 - val_loss: 22.0651\n",
      "Epoch 159/200\n",
      "1/1 [==============================] - 0s 41ms/step - loss: 8.1680 - val_loss: 22.0918\n",
      "Epoch 160/200\n",
      "1/1 [==============================] - 0s 30ms/step - loss: 8.2290 - val_loss: 22.1357\n",
      "Epoch 161/200\n",
      "1/1 [==============================] - 0s 53ms/step - loss: 8.1418 - val_loss: 22.1820\n",
      "Epoch 162/200\n",
      "1/1 [==============================] - 0s 31ms/step - loss: 8.1721 - val_loss: 22.1989\n",
      "Epoch 163/200\n",
      "1/1 [==============================] - 0s 29ms/step - loss: 8.1412 - val_loss: 22.1703\n",
      "Epoch 164/200\n",
      "1/1 [==============================] - 0s 32ms/step - loss: 8.0921 - val_loss: 22.0995\n",
      "Epoch 165/200\n",
      "1/1 [==============================] - 0s 31ms/step - loss: 8.0905 - val_loss: 21.9949\n",
      "Epoch 166/200\n",
      "1/1 [==============================] - 0s 30ms/step - loss: 8.0328 - val_loss: 21.8830\n",
      "Epoch 167/200\n",
      "1/1 [==============================] - 0s 33ms/step - loss: 8.0381 - val_loss: 21.7831\n",
      "Epoch 168/200\n",
      "1/1 [==============================] - 0s 32ms/step - loss: 8.0122 - val_loss: 21.7170\n",
      "Epoch 169/200\n",
      "1/1 [==============================] - 0s 33ms/step - loss: 8.0030 - val_loss: 21.6871\n",
      "Epoch 170/200\n",
      "1/1 [==============================] - 0s 29ms/step - loss: 7.9788 - val_loss: 21.6718\n",
      "Epoch 171/200\n",
      "1/1 [==============================] - 0s 29ms/step - loss: 7.9482 - val_loss: 21.6618\n",
      "Epoch 172/200\n",
      "1/1 [==============================] - 0s 33ms/step - loss: 7.9542 - val_loss: 21.6384\n",
      "Epoch 173/200\n",
      "1/1 [==============================] - 0s 32ms/step - loss: 7.9136 - val_loss: 21.5871\n",
      "Epoch 174/200\n",
      "1/1 [==============================] - 0s 30ms/step - loss: 7.8683 - val_loss: 21.5445\n",
      "Epoch 175/200\n",
      "1/1 [==============================] - 0s 30ms/step - loss: 7.8423 - val_loss: 21.4885\n",
      "Epoch 176/200\n",
      "1/1 [==============================] - 0s 35ms/step - loss: 7.7708 - val_loss: 21.4352\n",
      "Epoch 177/200\n",
      "1/1 [==============================] - 0s 32ms/step - loss: 7.8480 - val_loss: 21.3808\n",
      "Epoch 178/200\n",
      "1/1 [==============================] - 0s 33ms/step - loss: 7.7934 - val_loss: 21.3247\n",
      "Epoch 179/200\n",
      "1/1 [==============================] - 0s 33ms/step - loss: 7.7815 - val_loss: 21.2816\n",
      "Epoch 180/200\n",
      "1/1 [==============================] - 0s 32ms/step - loss: 7.7851 - val_loss: 21.2726\n",
      "Epoch 181/200\n",
      "1/1 [==============================] - 0s 34ms/step - loss: 7.7216 - val_loss: 21.2879\n",
      "Epoch 182/200\n",
      "1/1 [==============================] - 0s 34ms/step - loss: 7.6893 - val_loss: 21.3224\n",
      "Epoch 183/200\n",
      "1/1 [==============================] - 0s 30ms/step - loss: 7.7305 - val_loss: 21.3468\n",
      "Epoch 184/200\n",
      "1/1 [==============================] - 0s 31ms/step - loss: 7.6013 - val_loss: 21.3275\n",
      "Epoch 185/200\n",
      "1/1 [==============================] - 0s 35ms/step - loss: 7.6408 - val_loss: 21.2798\n",
      "Epoch 186/200\n",
      "1/1 [==============================] - 0s 36ms/step - loss: 7.6140 - val_loss: 21.2042\n",
      "Epoch 187/200\n",
      "1/1 [==============================] - 0s 34ms/step - loss: 7.6155 - val_loss: 21.1425\n",
      "Epoch 188/200\n",
      "1/1 [==============================] - 0s 32ms/step - loss: 7.2967 - val_loss: 21.1210\n",
      "Epoch 189/200\n",
      "1/1 [==============================] - 0s 57ms/step - loss: 6.6916 - val_loss: 21.0468\n",
      "Epoch 190/200\n",
      "1/1 [==============================] - 0s 43ms/step - loss: 7.5760 - val_loss: 21.0198\n",
      "Epoch 191/200\n",
      "1/1 [==============================] - 0s 39ms/step - loss: 7.5186 - val_loss: 21.0458\n",
      "Epoch 192/200\n",
      "1/1 [==============================] - 0s 33ms/step - loss: 7.5063 - val_loss: 21.1117\n",
      "Epoch 193/200\n",
      "1/1 [==============================] - 0s 35ms/step - loss: 7.4350 - val_loss: 21.1920\n",
      "Epoch 194/200\n",
      "1/1 [==============================] - 0s 32ms/step - loss: 7.3476 - val_loss: 21.3640\n",
      "Epoch 195/200\n",
      "1/1 [==============================] - 0s 32ms/step - loss: 7.4439 - val_loss: 21.4979\n",
      "Epoch 196/200\n",
      "1/1 [==============================] - 0s 34ms/step - loss: 7.4325 - val_loss: 21.5393\n",
      "Epoch 197/200\n",
      "1/1 [==============================] - 0s 33ms/step - loss: 7.4336 - val_loss: 21.4804\n",
      "Epoch 198/200\n",
      "1/1 [==============================] - 0s 32ms/step - loss: 7.4102 - val_loss: 21.3820\n",
      "Epoch 199/200\n",
      "1/1 [==============================] - 0s 37ms/step - loss: 7.4008 - val_loss: 21.2608\n",
      "Epoch 200/200\n",
      "1/1 [==============================] - 0s 29ms/step - loss: 7.4098 - val_loss: 21.1566\n"
     ]
    }
   ],
   "source": [
    "hist = model_boston.fit(train_dataset, \n",
    "                        epochs = N_EPOCH,\n",
    "                        validation_data = test_dataset)"
   ]
  },
  {
   "cell_type": "markdown",
   "metadata": {},
   "source": [
    "#### 결과 시각화\n",
    "- 학습 시 epoch별 검증 결과를 시각화"
   ]
  },
  {
   "cell_type": "code",
   "execution_count": 45,
   "metadata": {},
   "outputs": [
    {
     "data": {
      "image/png": "[encoded data removed]",
      "text/plain": [
       "<Figure size 640x480 with 1 Axes>"
      ]
     },
     "metadata": {},
     "output_type": "display_data"
    }
   ],
   "source": [
    "plt.plot(hist.epoch, hist.history['loss'], label='Train set')\n",
    "plt.plot(hist.epoch, hist.history['val_loss'], label='Validation set')\n",
    "\n",
    "plt.title('에폭별 MSE loss')\n",
    "plt.ylim(0, 30)\n",
    "plt.legend()\n",
    "plt.show()"
   ]
  },
  {
   "cell_type": "markdown",
   "metadata": {},
   "source": [
    "#### 최종 테스트"
   ]
  },
  {
   "cell_type": "code",
   "execution_count": 46,
   "metadata": {},
   "outputs": [
    {
     "name": "stdout",
     "output_type": "stream",
     "text": [
      "3/3 [==============================] - 0s 5ms/step - loss: 21.1566\n"
     ]
    }
   ],
   "source": [
    "loss = model_boston.evaluate(test_dataset)"
   ]
  },
  {
   "cell_type": "markdown",
   "metadata": {},
   "source": [
    "#### 모델 네트워크 저장"
   ]
  },
  {
   "cell_type": "code",
   "execution_count": 47,
   "metadata": {},
   "outputs": [],
   "source": [
    "import os\n",
    "path = 'saved_model'\n",
    "os.makedirs(path, exist_ok = True)"
   ]
  },
  {
   "cell_type": "code",
   "execution_count": 48,
   "metadata": {},
   "outputs": [
    {
     "name": "stdout",
     "output_type": "stream",
     "text": [
      "saved_model\\boston_model\n"
     ]
    },
    {
     "name": "stderr",
     "output_type": "stream",
     "text": [
      "WARNING:absl:Found untraced functions such as _update_step_xla while saving (showing 1 of 1). These functions will not be directly callable after loading.\n"
     ]
    },
    {
     "name": "stdout",
     "output_type": "stream",
     "text": [
      "INFO:tensorflow:Assets written to: saved_model\\boston_model\\assets\n"
     ]
    },
    {
     "name": "stderr",
     "output_type": "stream",
     "text": [
      "INFO:tensorflow:Assets written to: saved_model\\boston_model\\assets\n"
     ]
    }
   ],
   "source": [
    "saved_dir = os.path.join(path, 'boston_model')\n",
    "print(saved_dir)\n",
    "model_boston.save(saved_dir)"
   ]
  },
  {
   "cell_type": "markdown",
   "metadata": {},
   "source": [
    "#### 새로운 데이터 추론"
   ]
  },
  {
   "cell_type": "code",
   "execution_count": 49,
   "metadata": {},
   "outputs": [
    {
     "name": "stdout",
     "output_type": "stream",
     "text": [
      "3/3 [==============================] - 1s 8ms/step - loss: 21.1566\n"
     ]
    },
    {
     "data": {
      "text/plain": [
       "21.1566219329834"
      ]
     },
     "execution_count": 49,
     "metadata": {},
     "output_type": "execute_result"
    }
   ],
   "source": [
    "# 저장된 모델 불러와 추론\n",
    "saved_model = keras.models.load_model(saved_dir)\n",
    "saved_model.evaluate(test_dataset)"
   ]
  },
  {
   "cell_type": "code",
   "execution_count": 50,
   "metadata": {},
   "outputs": [
    {
     "name": "stdout",
     "output_type": "stream",
     "text": [
      "1/1 [==============================] - 0s 264ms/step\n",
      "[[ 8.155615]\n",
      " [19.217352]\n",
      " [21.872103]\n",
      " [35.54864 ]\n",
      " [25.270071]]\n"
     ]
    }
   ],
   "source": [
    "X_new = X_test[:5]\n",
    "pred = saved_model.predict(X_new)\n",
    "print(pred)"
   ]
  },
  {
   "cell_type": "code",
   "execution_count": 51,
   "metadata": {},
   "outputs": [
    {
     "data": {
      "text/plain": [
       "array([ 7.2, 18.8, 19. , 27. , 22.2])"
      ]
     },
     "execution_count": 51,
     "metadata": {},
     "output_type": "execute_result"
    }
   ],
   "source": [
    "y_test[:5]"
   ]
  },
  {
   "cell_type": "code",
   "execution_count": null,
   "metadata": {},
   "outputs": [],
   "source": []
  }
 ],
 "metadata": {
  "kernelspec": {
   "display_name": "Python 3.9.13 ('base')",
   "language": "python",
   "name": "python3"
  },
  "language_info": {
   "codemirror_mode": {
    "name": "ipython",
    "version": 3
   },
   "file_extension": ".py",
   "mimetype": "text/x-python",
   "name": "python",
   "nbconvert_exporter": "python",
   "pygments_lexer": "ipython3",
   "version": "3.9.13"
  },
  "orig_nbformat": 4,
  "vscode": {
   "interpreter": {
    "hash": "57bc2b6ce032b5f0e93daa91901b7ea38a856826ef43aa9e95b6d3999f5310df"
   }
  }
 },
 "nbformat": 4,
 "nbformat_minor": 2
}
