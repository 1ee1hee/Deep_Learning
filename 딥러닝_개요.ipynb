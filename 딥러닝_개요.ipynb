{
 "cells": [
  {
   "cell_type": "markdown",
   "metadata": {},
   "source": [
    "# 딥러닝 개요\n",
    "![image](https://blogs.nvidia.co.kr/wp-content/uploads/sites/16/2016/08/postfiles8.naver_.png)\n",
    "\n",
    "## 인공지능(AI - Artificial Intelligence)\n",
    "- 지능: 어떤 문제를 해결하기 위한 지적 활동 능력\n",
    "- 인공지능  \n",
    "    - 기계가 사람의 지능을 모방하게 하는 기술\n",
    "    - 규칙기반, 데이터 학습 기반\n",
    "\n",
    "## 머신러닝(Machine Learning)\n",
    "- 데이터 학습 가반의 인공 지능 분야\n",
    "- 기계에게 어떻게 동작할지 코드로 명시하지 않고 데이터를 이용해 학습할 수 있도록 하는 알고리즘과 기술을 개발하는 인공지능의 한 분야\n",
    "\n",
    "## 딥러닝(Deep Learning)\n",
    "- 인공 신경망을 기반으로 하는 머신러닝의 한 분야\n",
    "- 비정형의 대용량 데이터 학습에 뛰어난 성능을 나타냄"
   ]
  },
  {
   "cell_type": "markdown",
   "metadata": {},
   "source": [
    "## 딥러닝으로 할 수 있는 일\n",
    "- 분류(Classification)\n",
    "- 회귀(Regression)\n",
    "- 물체 검출(Object Detection)\n",
    "- 기계번역\n",
    "- 예술적 창조물(Artistic Creation with GAN)\n",
    "- 강화 학습(Reinforcement Learning)"
   ]
  },
  {
   "cell_type": "markdown",
   "metadata": {},
   "source": [
    "## 딥러닝 프로세스\n",
    "![image](https://velog.velcdn.com/images/insung_na/post/00ee43b2-107e-49e4-9f15-75f50a47ed47/image.png)"
   ]
  },
  {
   "cell_type": "markdown",
   "metadata": {},
   "source": [
    "### Tensorflow\n",
    "- 구글에서 오픈소스로 공개한 다양한 수치 연산과 딥러닝을 위한 라이브러리\n",
    "- 구글 내 연구와 제품개발을 목적으로 사용하뎐 라이브러리를 공개\n",
    "\n",
    "### Keras\n",
    "- 파이썬으로 구현된 간결한 딥러닝 라이브러리\n",
    "- 쉽게 딥러닝 모델을 개발하고 활용할 수 있도록 직관적인 API를 제공\n",
    "- 내부적으로 텐서플로우(TensorFlow), 티아노(Theano), CNTK등의 딥러닝 전용 엔진위에서 작동\n",
    "- Tensorflow 2.0부터 Keras가 텐서플로우에 포함"
   ]
  }
 ],
 "metadata": {
  "kernelspec": {
   "display_name": "Python 3.9.13 ('base')",
   "language": "python",
   "name": "python3"
  },
  "language_info": {
   "codemirror_mode": {
    "name": "ipython",
    "version": 3
   },
   "file_extension": ".py",
   "mimetype": "text/x-python",
   "name": "python",
   "nbconvert_exporter": "python",
   "pygments_lexer": "ipython3",
   "version": "3.9.13"
  },
  "orig_nbformat": 4,
  "vscode": {
   "interpreter": {
    "hash": "57bc2b6ce032b5f0e93daa91901b7ea38a856826ef43aa9e95b6d3999f5310df"
   }
  }
 },
 "nbformat": 4,
 "nbformat_minor": 2
}
